{
  "nbformat": 4,
  "nbformat_minor": 0,
  "metadata": {
    "colab": {
      "provenance": [],
      "include_colab_link": true
    },
    "kernelspec": {
      "name": "python3",
      "display_name": "Python 3"
    },
    "language_info": {
      "name": "python"
    }
  },
  "cells": [
    {
      "cell_type": "markdown",
      "metadata": {
        "id": "view-in-github",
        "colab_type": "text"
      },
      "source": [
        "<a href=\"https://colab.research.google.com/github/mikeygii/Beer_Review/blob/main/Beer_Review_Analysis.ipynb\" target=\"_parent\"><img src=\"https://colab.research.google.com/assets/colab-badge.svg\" alt=\"Open In Colab\"/></a>"
      ]
    },
    {
      "cell_type": "markdown",
      "metadata": {
        "id": "qcm40t-eNSkN"
      },
      "source": [
        "###Mikey Golaski\n",
        "###Danny Ryan\n",
        "###Final Project"
      ]
    },
    {
      "cell_type": "code",
      "metadata": {
        "id": "eT8AhtWNYYyI"
      },
      "source": [
        "import numpy as np\n",
        "import pandas as pd\n",
        "import matplotlib.pyplot as plt\n",
        "import seaborn as sns\n",
        "from sklearn.model_selection import train_test_split\n",
        "from sklearn.tree import export_graphviz\n",
        "import graphviz\n",
        "from sklearn.neighbors import KNeighborsClassifier\n",
        "from sklearn.metrics import accuracy_score\n",
        "from sklearn.decomposition import PCA\n",
        "from sklearn.metrics import classification_report\n",
        "from sklearn.metrics import confusion_matrix\n",
        "from sklearn.preprocessing import StandardScaler\n",
        "from sklearn.linear_model import LinearRegression\n",
        "from sklearn.metrics import mean_absolute_error\n",
        "from sklearn.metrics import mean_squared_error\n",
        "from sklearn.neural_network import MLPClassifier\n",
        "from sklearn.pipeline import make_pipeline\n"
      ],
      "execution_count": 1,
      "outputs": []
    },
    {
      "cell_type": "markdown",
      "metadata": {
        "id": "p1emV-4HDbI1"
      },
      "source": [
        "##Problem Statement:\n",
        "\n",
        "For our project, we chose to analyze a data set containing over 1.5 million beer reviews. As we are both enthusiasts ourselves, we wanted to see how other people's rating of the categories affected their overall rating of the beer.\n",
        "\n",
        "Our first and main question was what factors lead people to rate a beer higher or lower than other beers. To answer this, we utilized a decision tree and regression.\n",
        "\n",
        "Our second question was we were curious to see if we could use DMML techniques to accurately predict certain characteristics about the beer. Our main focus of characterstics were overall score and abv.  \n",
        "\n",
        "Those are challenging problems, as this data set contained over 1.5 million reviews, are of which are subjective. In addition, people's opinions of beer varies widely on a person by person basis, which can make finding signifigant results more challenging. Due to the size of the data set and that we did not want outlier beer reviews to overly infuence our results, much of our analsis was done using means of groups, as we see that as a fair and accurete way to represent the data."
      ]
    },
    {
      "cell_type": "markdown",
      "metadata": {
        "id": "9Qj4DKDgGC0N"
      },
      "source": [
        "# Grade Target\n",
        "### below is our grade targets from our project proposal.\n",
        "\n",
        "Low Target:\n",
        "Simple data mining methods such as normalization and visualizations that do not reveal anything insightful about the data.\n",
        "\n",
        "Medium Target:\n",
        "2-3 methods from class learned with no new DMML techniques implemented\n",
        "Some visualizations used but not the most informative or applicable to our project\n",
        "\n",
        "\n",
        "High Target:\n",
        "More than three DMML techniques used from class, and at least one other new method implemented to analyze the data\n",
        "Visualizations are applicable to the problem question, are well constructed and easy to read, and make the overall project better and more informative.\n",
        "\n",
        "Our goal was to achieve all the parts of the high target.\n"
      ]
    },
    {
      "cell_type": "markdown",
      "metadata": {
        "id": "yEaT3cAhDFHb"
      },
      "source": [
        "Data was downloaded from the Kaggle link below:\n",
        "\n",
        "\n",
        "https://www.kaggle.com/rdoume/beerreviews"
      ]
    },
    {
      "cell_type": "code",
      "metadata": {
        "colab": {
          "base_uri": "https://localhost:8080/"
        },
        "id": "jNmZjbsbZrdk",
        "outputId": "a4923772-2355-4468-f0bb-8d5937797063"
      },
      "source": [
        "df = pd.read_csv('/content/beer_reviews.csv')\n",
        "df = df.dropna()\n",
        "print(df.shape)"
      ],
      "execution_count": 3,
      "outputs": [
        {
          "output_type": "stream",
          "name": "stdout",
          "text": [
            "(410715, 13)\n"
          ]
        }
      ]
    },
    {
      "cell_type": "markdown",
      "metadata": {
        "id": "tLlNWPTtpVvu"
      },
      "source": [
        "The code below drops three columns that are review time, brewery id, and beer id. All three of those columns are not needed for our analysis."
      ]
    },
    {
      "cell_type": "code",
      "metadata": {
        "colab": {
          "base_uri": "https://localhost:8080/"
        },
        "id": "Np4GTvqshnY5",
        "outputId": "e19d572a-3e46-4056-f567-e872b6baf400"
      },
      "source": [
        "df = df.drop(['review_time', 'brewery_id', 'beer_beerid'], axis=1)\n",
        "df.shape"
      ],
      "execution_count": 4,
      "outputs": [
        {
          "output_type": "execute_result",
          "data": {
            "text/plain": [
              "(410715, 10)"
            ]
          },
          "metadata": {},
          "execution_count": 4
        }
      ]
    },
    {
      "cell_type": "code",
      "metadata": {
        "colab": {
          "base_uri": "https://localhost:8080/",
          "height": 348
        },
        "id": "VvqJLplbsPoM",
        "outputId": "18641ba9-b024-4f10-c01a-c1c33d58527b"
      },
      "source": [
        "df.head()"
      ],
      "execution_count": 5,
      "outputs": [
        {
          "output_type": "execute_result",
          "data": {
            "text/plain": [
              "              brewery_name  review_overall  review_aroma  review_appearance  \\\n",
              "0          Vecchio Birraio             1.5           2.0                2.5   \n",
              "1          Vecchio Birraio             3.0           2.5                3.0   \n",
              "2          Vecchio Birraio             3.0           2.5                3.0   \n",
              "3          Vecchio Birraio             3.0           3.0                3.5   \n",
              "4  Caldera Brewing Company             4.0           4.5                4.0   \n",
              "\n",
              "  review_profilename                      beer_style  review_palate  \\\n",
              "0            stcules                      Hefeweizen            1.5   \n",
              "1            stcules              English Strong Ale            3.0   \n",
              "2            stcules          Foreign / Export Stout            3.0   \n",
              "3            stcules                 German Pilsener            2.5   \n",
              "4     johnmichaelsen  American Double / Imperial IPA            4.0   \n",
              "\n",
              "   review_taste               beer_name  beer_abv  \n",
              "0           1.5            Sausa Weizen       5.0  \n",
              "1           3.0                Red Moon       6.2  \n",
              "2           3.0  Black Horse Black Beer       6.5  \n",
              "3           3.0              Sausa Pils       5.0  \n",
              "4           4.5           Cauldron DIPA       7.7  "
            ],
            "text/html": [
              "\n",
              "  <div id=\"df-8b4e4c11-5050-4513-b4bf-893f1827bd88\" class=\"colab-df-container\">\n",
              "    <div>\n",
              "<style scoped>\n",
              "    .dataframe tbody tr th:only-of-type {\n",
              "        vertical-align: middle;\n",
              "    }\n",
              "\n",
              "    .dataframe tbody tr th {\n",
              "        vertical-align: top;\n",
              "    }\n",
              "\n",
              "    .dataframe thead th {\n",
              "        text-align: right;\n",
              "    }\n",
              "</style>\n",
              "<table border=\"1\" class=\"dataframe\">\n",
              "  <thead>\n",
              "    <tr style=\"text-align: right;\">\n",
              "      <th></th>\n",
              "      <th>brewery_name</th>\n",
              "      <th>review_overall</th>\n",
              "      <th>review_aroma</th>\n",
              "      <th>review_appearance</th>\n",
              "      <th>review_profilename</th>\n",
              "      <th>beer_style</th>\n",
              "      <th>review_palate</th>\n",
              "      <th>review_taste</th>\n",
              "      <th>beer_name</th>\n",
              "      <th>beer_abv</th>\n",
              "    </tr>\n",
              "  </thead>\n",
              "  <tbody>\n",
              "    <tr>\n",
              "      <th>0</th>\n",
              "      <td>Vecchio Birraio</td>\n",
              "      <td>1.5</td>\n",
              "      <td>2.0</td>\n",
              "      <td>2.5</td>\n",
              "      <td>stcules</td>\n",
              "      <td>Hefeweizen</td>\n",
              "      <td>1.5</td>\n",
              "      <td>1.5</td>\n",
              "      <td>Sausa Weizen</td>\n",
              "      <td>5.0</td>\n",
              "    </tr>\n",
              "    <tr>\n",
              "      <th>1</th>\n",
              "      <td>Vecchio Birraio</td>\n",
              "      <td>3.0</td>\n",
              "      <td>2.5</td>\n",
              "      <td>3.0</td>\n",
              "      <td>stcules</td>\n",
              "      <td>English Strong Ale</td>\n",
              "      <td>3.0</td>\n",
              "      <td>3.0</td>\n",
              "      <td>Red Moon</td>\n",
              "      <td>6.2</td>\n",
              "    </tr>\n",
              "    <tr>\n",
              "      <th>2</th>\n",
              "      <td>Vecchio Birraio</td>\n",
              "      <td>3.0</td>\n",
              "      <td>2.5</td>\n",
              "      <td>3.0</td>\n",
              "      <td>stcules</td>\n",
              "      <td>Foreign / Export Stout</td>\n",
              "      <td>3.0</td>\n",
              "      <td>3.0</td>\n",
              "      <td>Black Horse Black Beer</td>\n",
              "      <td>6.5</td>\n",
              "    </tr>\n",
              "    <tr>\n",
              "      <th>3</th>\n",
              "      <td>Vecchio Birraio</td>\n",
              "      <td>3.0</td>\n",
              "      <td>3.0</td>\n",
              "      <td>3.5</td>\n",
              "      <td>stcules</td>\n",
              "      <td>German Pilsener</td>\n",
              "      <td>2.5</td>\n",
              "      <td>3.0</td>\n",
              "      <td>Sausa Pils</td>\n",
              "      <td>5.0</td>\n",
              "    </tr>\n",
              "    <tr>\n",
              "      <th>4</th>\n",
              "      <td>Caldera Brewing Company</td>\n",
              "      <td>4.0</td>\n",
              "      <td>4.5</td>\n",
              "      <td>4.0</td>\n",
              "      <td>johnmichaelsen</td>\n",
              "      <td>American Double / Imperial IPA</td>\n",
              "      <td>4.0</td>\n",
              "      <td>4.5</td>\n",
              "      <td>Cauldron DIPA</td>\n",
              "      <td>7.7</td>\n",
              "    </tr>\n",
              "  </tbody>\n",
              "</table>\n",
              "</div>\n",
              "    <div class=\"colab-df-buttons\">\n",
              "\n",
              "  <div class=\"colab-df-container\">\n",
              "    <button class=\"colab-df-convert\" onclick=\"convertToInteractive('df-8b4e4c11-5050-4513-b4bf-893f1827bd88')\"\n",
              "            title=\"Convert this dataframe to an interactive table.\"\n",
              "            style=\"display:none;\">\n",
              "\n",
              "  <svg xmlns=\"http://www.w3.org/2000/svg\" height=\"24px\" viewBox=\"0 -960 960 960\">\n",
              "    <path d=\"M120-120v-720h720v720H120Zm60-500h600v-160H180v160Zm220 220h160v-160H400v160Zm0 220h160v-160H400v160ZM180-400h160v-160H180v160Zm440 0h160v-160H620v160ZM180-180h160v-160H180v160Zm440 0h160v-160H620v160Z\"/>\n",
              "  </svg>\n",
              "    </button>\n",
              "\n",
              "  <style>\n",
              "    .colab-df-container {\n",
              "      display:flex;\n",
              "      gap: 12px;\n",
              "    }\n",
              "\n",
              "    .colab-df-convert {\n",
              "      background-color: #E8F0FE;\n",
              "      border: none;\n",
              "      border-radius: 50%;\n",
              "      cursor: pointer;\n",
              "      display: none;\n",
              "      fill: #1967D2;\n",
              "      height: 32px;\n",
              "      padding: 0 0 0 0;\n",
              "      width: 32px;\n",
              "    }\n",
              "\n",
              "    .colab-df-convert:hover {\n",
              "      background-color: #E2EBFA;\n",
              "      box-shadow: 0px 1px 2px rgba(60, 64, 67, 0.3), 0px 1px 3px 1px rgba(60, 64, 67, 0.15);\n",
              "      fill: #174EA6;\n",
              "    }\n",
              "\n",
              "    .colab-df-buttons div {\n",
              "      margin-bottom: 4px;\n",
              "    }\n",
              "\n",
              "    [theme=dark] .colab-df-convert {\n",
              "      background-color: #3B4455;\n",
              "      fill: #D2E3FC;\n",
              "    }\n",
              "\n",
              "    [theme=dark] .colab-df-convert:hover {\n",
              "      background-color: #434B5C;\n",
              "      box-shadow: 0px 1px 3px 1px rgba(0, 0, 0, 0.15);\n",
              "      filter: drop-shadow(0px 1px 2px rgba(0, 0, 0, 0.3));\n",
              "      fill: #FFFFFF;\n",
              "    }\n",
              "  </style>\n",
              "\n",
              "    <script>\n",
              "      const buttonEl =\n",
              "        document.querySelector('#df-8b4e4c11-5050-4513-b4bf-893f1827bd88 button.colab-df-convert');\n",
              "      buttonEl.style.display =\n",
              "        google.colab.kernel.accessAllowed ? 'block' : 'none';\n",
              "\n",
              "      async function convertToInteractive(key) {\n",
              "        const element = document.querySelector('#df-8b4e4c11-5050-4513-b4bf-893f1827bd88');\n",
              "        const dataTable =\n",
              "          await google.colab.kernel.invokeFunction('convertToInteractive',\n",
              "                                                    [key], {});\n",
              "        if (!dataTable) return;\n",
              "\n",
              "        const docLinkHtml = 'Like what you see? Visit the ' +\n",
              "          '<a target=\"_blank\" href=https://colab.research.google.com/notebooks/data_table.ipynb>data table notebook</a>'\n",
              "          + ' to learn more about interactive tables.';\n",
              "        element.innerHTML = '';\n",
              "        dataTable['output_type'] = 'display_data';\n",
              "        await google.colab.output.renderOutput(dataTable, element);\n",
              "        const docLink = document.createElement('div');\n",
              "        docLink.innerHTML = docLinkHtml;\n",
              "        element.appendChild(docLink);\n",
              "      }\n",
              "    </script>\n",
              "  </div>\n",
              "\n",
              "\n",
              "<div id=\"df-f3c340b2-9fcc-4cad-bd63-2762b40bdbc3\">\n",
              "  <button class=\"colab-df-quickchart\" onclick=\"quickchart('df-f3c340b2-9fcc-4cad-bd63-2762b40bdbc3')\"\n",
              "            title=\"Suggest charts\"\n",
              "            style=\"display:none;\">\n",
              "\n",
              "<svg xmlns=\"http://www.w3.org/2000/svg\" height=\"24px\"viewBox=\"0 0 24 24\"\n",
              "     width=\"24px\">\n",
              "    <g>\n",
              "        <path d=\"M19 3H5c-1.1 0-2 .9-2 2v14c0 1.1.9 2 2 2h14c1.1 0 2-.9 2-2V5c0-1.1-.9-2-2-2zM9 17H7v-7h2v7zm4 0h-2V7h2v10zm4 0h-2v-4h2v4z\"/>\n",
              "    </g>\n",
              "</svg>\n",
              "  </button>\n",
              "\n",
              "<style>\n",
              "  .colab-df-quickchart {\n",
              "      --bg-color: #E8F0FE;\n",
              "      --fill-color: #1967D2;\n",
              "      --hover-bg-color: #E2EBFA;\n",
              "      --hover-fill-color: #174EA6;\n",
              "      --disabled-fill-color: #AAA;\n",
              "      --disabled-bg-color: #DDD;\n",
              "  }\n",
              "\n",
              "  [theme=dark] .colab-df-quickchart {\n",
              "      --bg-color: #3B4455;\n",
              "      --fill-color: #D2E3FC;\n",
              "      --hover-bg-color: #434B5C;\n",
              "      --hover-fill-color: #FFFFFF;\n",
              "      --disabled-bg-color: #3B4455;\n",
              "      --disabled-fill-color: #666;\n",
              "  }\n",
              "\n",
              "  .colab-df-quickchart {\n",
              "    background-color: var(--bg-color);\n",
              "    border: none;\n",
              "    border-radius: 50%;\n",
              "    cursor: pointer;\n",
              "    display: none;\n",
              "    fill: var(--fill-color);\n",
              "    height: 32px;\n",
              "    padding: 0;\n",
              "    width: 32px;\n",
              "  }\n",
              "\n",
              "  .colab-df-quickchart:hover {\n",
              "    background-color: var(--hover-bg-color);\n",
              "    box-shadow: 0 1px 2px rgba(60, 64, 67, 0.3), 0 1px 3px 1px rgba(60, 64, 67, 0.15);\n",
              "    fill: var(--button-hover-fill-color);\n",
              "  }\n",
              "\n",
              "  .colab-df-quickchart-complete:disabled,\n",
              "  .colab-df-quickchart-complete:disabled:hover {\n",
              "    background-color: var(--disabled-bg-color);\n",
              "    fill: var(--disabled-fill-color);\n",
              "    box-shadow: none;\n",
              "  }\n",
              "\n",
              "  .colab-df-spinner {\n",
              "    border: 2px solid var(--fill-color);\n",
              "    border-color: transparent;\n",
              "    border-bottom-color: var(--fill-color);\n",
              "    animation:\n",
              "      spin 1s steps(1) infinite;\n",
              "  }\n",
              "\n",
              "  @keyframes spin {\n",
              "    0% {\n",
              "      border-color: transparent;\n",
              "      border-bottom-color: var(--fill-color);\n",
              "      border-left-color: var(--fill-color);\n",
              "    }\n",
              "    20% {\n",
              "      border-color: transparent;\n",
              "      border-left-color: var(--fill-color);\n",
              "      border-top-color: var(--fill-color);\n",
              "    }\n",
              "    30% {\n",
              "      border-color: transparent;\n",
              "      border-left-color: var(--fill-color);\n",
              "      border-top-color: var(--fill-color);\n",
              "      border-right-color: var(--fill-color);\n",
              "    }\n",
              "    40% {\n",
              "      border-color: transparent;\n",
              "      border-right-color: var(--fill-color);\n",
              "      border-top-color: var(--fill-color);\n",
              "    }\n",
              "    60% {\n",
              "      border-color: transparent;\n",
              "      border-right-color: var(--fill-color);\n",
              "    }\n",
              "    80% {\n",
              "      border-color: transparent;\n",
              "      border-right-color: var(--fill-color);\n",
              "      border-bottom-color: var(--fill-color);\n",
              "    }\n",
              "    90% {\n",
              "      border-color: transparent;\n",
              "      border-bottom-color: var(--fill-color);\n",
              "    }\n",
              "  }\n",
              "</style>\n",
              "\n",
              "  <script>\n",
              "    async function quickchart(key) {\n",
              "      const quickchartButtonEl =\n",
              "        document.querySelector('#' + key + ' button');\n",
              "      quickchartButtonEl.disabled = true;  // To prevent multiple clicks.\n",
              "      quickchartButtonEl.classList.add('colab-df-spinner');\n",
              "      try {\n",
              "        const charts = await google.colab.kernel.invokeFunction(\n",
              "            'suggestCharts', [key], {});\n",
              "      } catch (error) {\n",
              "        console.error('Error during call to suggestCharts:', error);\n",
              "      }\n",
              "      quickchartButtonEl.classList.remove('colab-df-spinner');\n",
              "      quickchartButtonEl.classList.add('colab-df-quickchart-complete');\n",
              "    }\n",
              "    (() => {\n",
              "      let quickchartButtonEl =\n",
              "        document.querySelector('#df-f3c340b2-9fcc-4cad-bd63-2762b40bdbc3 button');\n",
              "      quickchartButtonEl.style.display =\n",
              "        google.colab.kernel.accessAllowed ? 'block' : 'none';\n",
              "    })();\n",
              "  </script>\n",
              "</div>\n",
              "\n",
              "    </div>\n",
              "  </div>\n"
            ],
            "application/vnd.google.colaboratory.intrinsic+json": {
              "type": "dataframe",
              "variable_name": "df"
            }
          },
          "metadata": {},
          "execution_count": 5
        }
      ]
    },
    {
      "cell_type": "markdown",
      "metadata": {
        "id": "sbrjRB6TpZNj"
      },
      "source": [
        "The code below generates a histogram to display the spread of all six variables included in the data set"
      ]
    },
    {
      "cell_type": "code",
      "metadata": {
        "colab": {
          "base_uri": "https://localhost:8080/",
          "height": 849
        },
        "id": "6dSfB8zbZuJz",
        "outputId": "0ecf77eb-1adb-4662-8338-222916296acb"
      },
      "source": [
        "df.hist(figsize=(12,12))\n",
        "plt.show()"
      ],
      "execution_count": 6,
      "outputs": [
        {
          "output_type": "display_data",
          "data": {
            "text/plain": [
              "<Figure size 1200x1200 with 6 Axes>"
            ],
            "image/png": "[encoded data removed]"
          },
          "metadata": {}
        }
      ]
    },
    {
      "cell_type": "markdown",
      "metadata": {
        "id": "6Ti8oZ3KpcSE"
      },
      "source": [
        "###Analysis of the Histogram showing all reviews in the dataset above:\n",
        "review_overall - left skewed, and most beers are rated between 4 and 5\n",
        "\n",
        "review_aroma  - the spread of the data is normal, and centered at a rating of 4\n",
        "\n",
        "review_appearance\t- left skewed, and most beers appearences are rated between 4 and 5\n",
        "\n",
        "review_palate\t- the spread of the data is normal, and centered at a rating of 4\n",
        "\n",
        "review_taste - \tthe spread of the data is normal, and centered at a rating of 4\n",
        "\n",
        "beer_abv\t- right skewed and a large majority of the beers present in the data set have an abv below 10 percent"
      ]
    },
    {
      "cell_type": "markdown",
      "metadata": {
        "id": "Lk8CdaKYpmV8"
      },
      "source": [
        "The code below creates a new dataframe called df_beers. It first takes all unique beer names, and then takes the average of all of the unique beer name reviews and uses that to fill in the columns. Df_beers_1000 is the top 1000 rated beers based of their average review from the data set.\n",
        "\n"
      ]
    },
    {
      "cell_type": "code",
      "metadata": {
        "id": "Ww08PDHLgLnG"
      },
      "source": [
        "df_beers = df.groupby(\"beer_name\").mean(numeric_only=True).reset_index()\n",
        "df_beers_1000 = df_beers.nlargest(1000, 'review_overall')"
      ],
      "execution_count": 10,
      "outputs": []
    },
    {
      "cell_type": "markdown",
      "metadata": {
        "id": "cKAF6J83glf6"
      },
      "source": [
        "###Decision Tree"
      ]
    },
    {
      "cell_type": "markdown",
      "metadata": {
        "id": "XRCgX-e9gumG"
      },
      "source": [
        "In order to create a Decision tree that splits beer style into either a category of Good or Bad we must first group all of the beer styles togethers. Afterwards we can take the mean of every category in beer style to and reset the index so our data frame is in alphabetical order based on beer style."
      ]
    },
    {
      "cell_type": "code",
      "metadata": {
        "id": "tJrcTL7hZzKS"
      },
      "source": [
        "df_beerType = df.groupby('beer_style').mean(numeric_only = True).reset_index()"
      ],
      "execution_count": 11,
      "outputs": []
    },
    {
      "cell_type": "markdown",
      "metadata": {
        "id": "-y8lhXI-hbjW"
      },
      "source": [
        "Next we must define our groups for beer style. If the review overall for a beer style is over 3.75 then we can say that the beer style is good. Everything else is put into the Bad group."
      ]
    },
    {
      "cell_type": "code",
      "metadata": {
        "id": "mZdGpiygaGiT"
      },
      "source": [
        "df_beerType['beer_label'] = ['good' if x >=3.75 else 'bad' for x in df_beerType['review_overall']]"
      ],
      "execution_count": 12,
      "outputs": []
    },
    {
      "cell_type": "markdown",
      "metadata": {
        "id": "EYms3bnWh21c"
      },
      "source": [
        "Most Beer Styles were placed into the good group."
      ]
    },
    {
      "cell_type": "code",
      "metadata": {
        "colab": {
          "base_uri": "https://localhost:8080/"
        },
        "id": "M2XAxz6iaJrj",
        "outputId": "c68b29cd-faf7-4250-97ef-6fbb1cd5b640"
      },
      "source": [
        "df_beerType['beer_label'].value_counts()"
      ],
      "execution_count": 13,
      "outputs": [
        {
          "output_type": "execute_result",
          "data": {
            "text/plain": [
              "beer_label\n",
              "good    65\n",
              "bad     39\n",
              "Name: count, dtype: int64"
            ]
          },
          "metadata": {},
          "execution_count": 13
        }
      ]
    },
    {
      "cell_type": "code",
      "metadata": {
        "id": "Lusgkjtbrpeg",
        "colab": {
          "base_uri": "https://localhost:8080/",
          "height": 348
        },
        "outputId": "89134f2a-8194-46e0-f25c-082e9c7b3726"
      },
      "source": [
        "df_beerType.head()"
      ],
      "execution_count": 14,
      "outputs": [
        {
          "output_type": "execute_result",
          "data": {
            "text/plain": [
              "                   beer_style  review_overall  review_aroma  \\\n",
              "0                     Altbier        3.812659      3.562235   \n",
              "1      American Adjunct Lager        3.164408      2.583354   \n",
              "2    American Amber / Red Ale        3.919129      3.780578   \n",
              "3  American Amber / Red Lager        3.414160      3.036101   \n",
              "4         American Barleywine        3.948031      4.074567   \n",
              "\n",
              "   review_appearance  review_palate  review_taste   beer_abv beer_label  \n",
              "0           3.744920       3.671041      3.695174   5.483692       good  \n",
              "1           2.862817       2.845288      2.832049   4.856739        bad  \n",
              "2           3.911386       3.781527      3.850071   6.412414       good  \n",
              "3           3.383875       3.162054      3.189531   4.843201        bad  \n",
              "4           4.128643       4.059085      4.109517  10.205474       good  "
            ],
            "text/html": [
              "\n",
              "  <div id=\"df-559a5f5e-e961-4072-9e90-2961fbb64b41\" class=\"colab-df-container\">\n",
              "    <div>\n",
              "<style scoped>\n",
              "    .dataframe tbody tr th:only-of-type {\n",
              "        vertical-align: middle;\n",
              "    }\n",
              "\n",
              "    .dataframe tbody tr th {\n",
              "        vertical-align: top;\n",
              "    }\n",
              "\n",
              "    .dataframe thead th {\n",
              "        text-align: right;\n",
              "    }\n",
              "</style>\n",
              "<table border=\"1\" class=\"dataframe\">\n",
              "  <thead>\n",
              "    <tr style=\"text-align: right;\">\n",
              "      <th></th>\n",
              "      <th>beer_style</th>\n",
              "      <th>review_overall</th>\n",
              "      <th>review_aroma</th>\n",
              "      <th>review_appearance</th>\n",
              "      <th>review_palate</th>\n",
              "      <th>review_taste</th>\n",
              "      <th>beer_abv</th>\n",
              "      <th>beer_label</th>\n",
              "    </tr>\n",
              "  </thead>\n",
              "  <tbody>\n",
              "    <tr>\n",
              "      <th>0</th>\n",
              "      <td>Altbier</td>\n",
              "      <td>3.812659</td>\n",
              "      <td>3.562235</td>\n",
              "      <td>3.744920</td>\n",
              "      <td>3.671041</td>\n",
              "      <td>3.695174</td>\n",
              "      <td>5.483692</td>\n",
              "      <td>good</td>\n",
              "    </tr>\n",
              "    <tr>\n",
              "      <th>1</th>\n",
              "      <td>American Adjunct Lager</td>\n",
              "      <td>3.164408</td>\n",
              "      <td>2.583354</td>\n",
              "      <td>2.862817</td>\n",
              "      <td>2.845288</td>\n",
              "      <td>2.832049</td>\n",
              "      <td>4.856739</td>\n",
              "      <td>bad</td>\n",
              "    </tr>\n",
              "    <tr>\n",
              "      <th>2</th>\n",
              "      <td>American Amber / Red Ale</td>\n",
              "      <td>3.919129</td>\n",
              "      <td>3.780578</td>\n",
              "      <td>3.911386</td>\n",
              "      <td>3.781527</td>\n",
              "      <td>3.850071</td>\n",
              "      <td>6.412414</td>\n",
              "      <td>good</td>\n",
              "    </tr>\n",
              "    <tr>\n",
              "      <th>3</th>\n",
              "      <td>American Amber / Red Lager</td>\n",
              "      <td>3.414160</td>\n",
              "      <td>3.036101</td>\n",
              "      <td>3.383875</td>\n",
              "      <td>3.162054</td>\n",
              "      <td>3.189531</td>\n",
              "      <td>4.843201</td>\n",
              "      <td>bad</td>\n",
              "    </tr>\n",
              "    <tr>\n",
              "      <th>4</th>\n",
              "      <td>American Barleywine</td>\n",
              "      <td>3.948031</td>\n",
              "      <td>4.074567</td>\n",
              "      <td>4.128643</td>\n",
              "      <td>4.059085</td>\n",
              "      <td>4.109517</td>\n",
              "      <td>10.205474</td>\n",
              "      <td>good</td>\n",
              "    </tr>\n",
              "  </tbody>\n",
              "</table>\n",
              "</div>\n",
              "    <div class=\"colab-df-buttons\">\n",
              "\n",
              "  <div class=\"colab-df-container\">\n",
              "    <button class=\"colab-df-convert\" onclick=\"convertToInteractive('df-559a5f5e-e961-4072-9e90-2961fbb64b41')\"\n",
              "            title=\"Convert this dataframe to an interactive table.\"\n",
              "            style=\"display:none;\">\n",
              "\n",
              "  <svg xmlns=\"http://www.w3.org/2000/svg\" height=\"24px\" viewBox=\"0 -960 960 960\">\n",
              "    <path d=\"M120-120v-720h720v720H120Zm60-500h600v-160H180v160Zm220 220h160v-160H400v160Zm0 220h160v-160H400v160ZM180-400h160v-160H180v160Zm440 0h160v-160H620v160ZM180-180h160v-160H180v160Zm440 0h160v-160H620v160Z\"/>\n",
              "  </svg>\n",
              "    </button>\n",
              "\n",
              "  <style>\n",
              "    .colab-df-container {\n",
              "      display:flex;\n",
              "      gap: 12px;\n",
              "    }\n",
              "\n",
              "    .colab-df-convert {\n",
              "      background-color: #E8F0FE;\n",
              "      border: none;\n",
              "      border-radius: 50%;\n",
              "      cursor: pointer;\n",
              "      display: none;\n",
              "      fill: #1967D2;\n",
              "      height: 32px;\n",
              "      padding: 0 0 0 0;\n",
              "      width: 32px;\n",
              "    }\n",
              "\n",
              "    .colab-df-convert:hover {\n",
              "      background-color: #E2EBFA;\n",
              "      box-shadow: 0px 1px 2px rgba(60, 64, 67, 0.3), 0px 1px 3px 1px rgba(60, 64, 67, 0.15);\n",
              "      fill: #174EA6;\n",
              "    }\n",
              "\n",
              "    .colab-df-buttons div {\n",
              "      margin-bottom: 4px;\n",
              "    }\n",
              "\n",
              "    [theme=dark] .colab-df-convert {\n",
              "      background-color: #3B4455;\n",
              "      fill: #D2E3FC;\n",
              "    }\n",
              "\n",
              "    [theme=dark] .colab-df-convert:hover {\n",
              "      background-color: #434B5C;\n",
              "      box-shadow: 0px 1px 3px 1px rgba(0, 0, 0, 0.15);\n",
              "      filter: drop-shadow(0px 1px 2px rgba(0, 0, 0, 0.3));\n",
              "      fill: #FFFFFF;\n",
              "    }\n",
              "  </style>\n",
              "\n",
              "    <script>\n",
              "      const buttonEl =\n",
              "        document.querySelector('#df-559a5f5e-e961-4072-9e90-2961fbb64b41 button.colab-df-convert');\n",
              "      buttonEl.style.display =\n",
              "        google.colab.kernel.accessAllowed ? 'block' : 'none';\n",
              "\n",
              "      async function convertToInteractive(key) {\n",
              "        const element = document.querySelector('#df-559a5f5e-e961-4072-9e90-2961fbb64b41');\n",
              "        const dataTable =\n",
              "          await google.colab.kernel.invokeFunction('convertToInteractive',\n",
              "                                                    [key], {});\n",
              "        if (!dataTable) return;\n",
              "\n",
              "        const docLinkHtml = 'Like what you see? Visit the ' +\n",
              "          '<a target=\"_blank\" href=https://colab.research.google.com/notebooks/data_table.ipynb>data table notebook</a>'\n",
              "          + ' to learn more about interactive tables.';\n",
              "        element.innerHTML = '';\n",
              "        dataTable['output_type'] = 'display_data';\n",
              "        await google.colab.output.renderOutput(dataTable, element);\n",
              "        const docLink = document.createElement('div');\n",
              "        docLink.innerHTML = docLinkHtml;\n",
              "        element.appendChild(docLink);\n",
              "      }\n",
              "    </script>\n",
              "  </div>\n",
              "\n",
              "\n",
              "<div id=\"df-adb73e9c-0a31-4fa7-91e7-e93a1aef49a0\">\n",
              "  <button class=\"colab-df-quickchart\" onclick=\"quickchart('df-adb73e9c-0a31-4fa7-91e7-e93a1aef49a0')\"\n",
              "            title=\"Suggest charts\"\n",
              "            style=\"display:none;\">\n",
              "\n",
              "<svg xmlns=\"http://www.w3.org/2000/svg\" height=\"24px\"viewBox=\"0 0 24 24\"\n",
              "     width=\"24px\">\n",
              "    <g>\n",
              "        <path d=\"M19 3H5c-1.1 0-2 .9-2 2v14c0 1.1.9 2 2 2h14c1.1 0 2-.9 2-2V5c0-1.1-.9-2-2-2zM9 17H7v-7h2v7zm4 0h-2V7h2v10zm4 0h-2v-4h2v4z\"/>\n",
              "    </g>\n",
              "</svg>\n",
              "  </button>\n",
              "\n",
              "<style>\n",
              "  .colab-df-quickchart {\n",
              "      --bg-color: #E8F0FE;\n",
              "      --fill-color: #1967D2;\n",
              "      --hover-bg-color: #E2EBFA;\n",
              "      --hover-fill-color: #174EA6;\n",
              "      --disabled-fill-color: #AAA;\n",
              "      --disabled-bg-color: #DDD;\n",
              "  }\n",
              "\n",
              "  [theme=dark] .colab-df-quickchart {\n",
              "      --bg-color: #3B4455;\n",
              "      --fill-color: #D2E3FC;\n",
              "      --hover-bg-color: #434B5C;\n",
              "      --hover-fill-color: #FFFFFF;\n",
              "      --disabled-bg-color: #3B4455;\n",
              "      --disabled-fill-color: #666;\n",
              "  }\n",
              "\n",
              "  .colab-df-quickchart {\n",
              "    background-color: var(--bg-color);\n",
              "    border: none;\n",
              "    border-radius: 50%;\n",
              "    cursor: pointer;\n",
              "    display: none;\n",
              "    fill: var(--fill-color);\n",
              "    height: 32px;\n",
              "    padding: 0;\n",
              "    width: 32px;\n",
              "  }\n",
              "\n",
              "  .colab-df-quickchart:hover {\n",
              "    background-color: var(--hover-bg-color);\n",
              "    box-shadow: 0 1px 2px rgba(60, 64, 67, 0.3), 0 1px 3px 1px rgba(60, 64, 67, 0.15);\n",
              "    fill: var(--button-hover-fill-color);\n",
              "  }\n",
              "\n",
              "  .colab-df-quickchart-complete:disabled,\n",
              "  .colab-df-quickchart-complete:disabled:hover {\n",
              "    background-color: var(--disabled-bg-color);\n",
              "    fill: var(--disabled-fill-color);\n",
              "    box-shadow: none;\n",
              "  }\n",
              "\n",
              "  .colab-df-spinner {\n",
              "    border: 2px solid var(--fill-color);\n",
              "    border-color: transparent;\n",
              "    border-bottom-color: var(--fill-color);\n",
              "    animation:\n",
              "      spin 1s steps(1) infinite;\n",
              "  }\n",
              "\n",
              "  @keyframes spin {\n",
              "    0% {\n",
              "      border-color: transparent;\n",
              "      border-bottom-color: var(--fill-color);\n",
              "      border-left-color: var(--fill-color);\n",
              "    }\n",
              "    20% {\n",
              "      border-color: transparent;\n",
              "      border-left-color: var(--fill-color);\n",
              "      border-top-color: var(--fill-color);\n",
              "    }\n",
              "    30% {\n",
              "      border-color: transparent;\n",
              "      border-left-color: var(--fill-color);\n",
              "      border-top-color: var(--fill-color);\n",
              "      border-right-color: var(--fill-color);\n",
              "    }\n",
              "    40% {\n",
              "      border-color: transparent;\n",
              "      border-right-color: var(--fill-color);\n",
              "      border-top-color: var(--fill-color);\n",
              "    }\n",
              "    60% {\n",
              "      border-color: transparent;\n",
              "      border-right-color: var(--fill-color);\n",
              "    }\n",
              "    80% {\n",
              "      border-color: transparent;\n",
              "      border-right-color: var(--fill-color);\n",
              "      border-bottom-color: var(--fill-color);\n",
              "    }\n",
              "    90% {\n",
              "      border-color: transparent;\n",
              "      border-bottom-color: var(--fill-color);\n",
              "    }\n",
              "  }\n",
              "</style>\n",
              "\n",
              "  <script>\n",
              "    async function quickchart(key) {\n",
              "      const quickchartButtonEl =\n",
              "        document.querySelector('#' + key + ' button');\n",
              "      quickchartButtonEl.disabled = true;  // To prevent multiple clicks.\n",
              "      quickchartButtonEl.classList.add('colab-df-spinner');\n",
              "      try {\n",
              "        const charts = await google.colab.kernel.invokeFunction(\n",
              "            'suggestCharts', [key], {});\n",
              "      } catch (error) {\n",
              "        console.error('Error during call to suggestCharts:', error);\n",
              "      }\n",
              "      quickchartButtonEl.classList.remove('colab-df-spinner');\n",
              "      quickchartButtonEl.classList.add('colab-df-quickchart-complete');\n",
              "    }\n",
              "    (() => {\n",
              "      let quickchartButtonEl =\n",
              "        document.querySelector('#df-adb73e9c-0a31-4fa7-91e7-e93a1aef49a0 button');\n",
              "      quickchartButtonEl.style.display =\n",
              "        google.colab.kernel.accessAllowed ? 'block' : 'none';\n",
              "    })();\n",
              "  </script>\n",
              "</div>\n",
              "\n",
              "    </div>\n",
              "  </div>\n"
            ],
            "application/vnd.google.colaboratory.intrinsic+json": {
              "type": "dataframe",
              "variable_name": "df_beerType",
              "summary": "{\n  \"name\": \"df_beerType\",\n  \"rows\": 104,\n  \"fields\": [\n    {\n      \"column\": \"beer_style\",\n      \"properties\": {\n        \"dtype\": \"string\",\n        \"num_unique_values\": 104,\n        \"samples\": [\n          \"Black & Tan\",\n          \"Hefeweizen\",\n          \"Happoshu\"\n        ],\n        \"semantic_type\": \"\",\n        \"description\": \"\"\n      }\n    },\n    {\n      \"column\": \"review_overall\",\n      \"properties\": {\n        \"dtype\": \"number\",\n        \"std\": 0.3198242971507883,\n        \"min\": 2.5060790273556233,\n        \"max\": 4.145348837209302,\n        \"num_unique_values\": 103,\n        \"samples\": [\n          3.819742489270386,\n          3.7842968075927526,\n          3.56875\n        ],\n        \"semantic_type\": \"\",\n        \"description\": \"\"\n      }\n    },\n    {\n      \"column\": \"review_aroma\",\n      \"properties\": {\n        \"dtype\": \"number\",\n        \"std\": 0.40189641511414154,\n        \"min\": 2.2922998986828773,\n        \"max\": 4.249806580803714,\n        \"num_unique_values\": 104,\n        \"samples\": [\n          3.6781115879828326,\n          3.7251337740006294,\n          2.6574074074074074\n        ],\n        \"semantic_type\": \"\",\n        \"description\": \"\"\n      }\n    },\n    {\n      \"column\": \"review_appearance\",\n      \"properties\": {\n        \"dtype\": \"number\",\n        \"std\": 0.3263451052016189,\n        \"min\": 2.5784387550200805,\n        \"max\": 4.232947780234734,\n        \"num_unique_values\": 104,\n        \"samples\": [\n          3.869098712446352,\n          3.764242996537614,\n          2.759259259259259\n        ],\n        \"semantic_type\": \"\",\n        \"description\": \"\"\n      }\n    },\n    {\n      \"column\": \"review_palate\",\n      \"properties\": {\n        \"dtype\": \"number\",\n        \"std\": 0.3453972240326025,\n        \"min\": 2.437062937062937,\n        \"max\": 4.219390368852459,\n        \"num_unique_values\": 104,\n        \"samples\": [\n          3.663090128755365,\n          3.722694365753856,\n          2.574074074074074\n        ],\n        \"semantic_type\": \"\",\n        \"description\": \"\"\n      }\n    },\n    {\n      \"column\": \"review_taste\",\n      \"properties\": {\n        \"dtype\": \"number\",\n        \"std\": 0.3908012211420451,\n        \"min\": 2.3520770010131713,\n        \"max\": 4.308145491803279,\n        \"num_unique_values\": 104,\n        \"samples\": [\n          3.740343347639485,\n          3.7575542965061377,\n          2.574074074074074\n        ],\n        \"semantic_type\": \"\",\n        \"description\": \"\"\n      }\n    },\n    {\n      \"column\": \"beer_abv\",\n      \"properties\": {\n        \"dtype\": \"number\",\n        \"std\": 2.0395905425355263,\n        \"min\": 0.7011188811188812,\n        \"max\": 14.327652173913044,\n        \"num_unique_values\": 104,\n        \"samples\": [\n          6.621502145922746,\n          5.176660371419578,\n          5.611111111111111\n        ],\n        \"semantic_type\": \"\",\n        \"description\": \"\"\n      }\n    },\n    {\n      \"column\": \"beer_label\",\n      \"properties\": {\n        \"dtype\": \"category\",\n        \"num_unique_values\": 2,\n        \"samples\": [\n          \"bad\",\n          \"good\"\n        ],\n        \"semantic_type\": \"\",\n        \"description\": \"\"\n      }\n    }\n  ]\n}"
            }
          },
          "metadata": {},
          "execution_count": 14
        }
      ]
    },
    {
      "cell_type": "markdown",
      "metadata": {
        "id": "gW3gFLfJ2L4K"
      },
      "source": [
        "Below we seperated our variables into two difference vectors holding our respone and explanatory variables\n"
      ]
    },
    {
      "cell_type": "code",
      "metadata": {
        "id": "JJxg67gwaLyT"
      },
      "source": [
        "y = df_beerType['beer_label']\n",
        "X = df_beerType[['review_aroma','review_palate','review_taste', 'beer_abv']]"
      ],
      "execution_count": 15,
      "outputs": []
    },
    {
      "cell_type": "markdown",
      "metadata": {
        "id": "BUitoNrw2VQA"
      },
      "source": [
        "Below we split our data into training data and testing data"
      ]
    },
    {
      "cell_type": "code",
      "metadata": {
        "id": "Cqg2gsIwaNVT"
      },
      "source": [
        "Xtrain, Xtest, ytrain, ytest = train_test_split(X, y, test_size=0.1, random_state=0)\n"
      ],
      "execution_count": 16,
      "outputs": []
    },
    {
      "cell_type": "markdown",
      "metadata": {
        "id": "xA1_1rhz2q1I"
      },
      "source": [
        "The two blocks of code below generate the decision tree and the associated visualization"
      ]
    },
    {
      "cell_type": "code",
      "metadata": {
        "id": "2ZMa_nHXaOkT",
        "colab": {
          "base_uri": "https://localhost:8080/",
          "height": 75
        },
        "outputId": "66ca2508-d1a7-493f-a04f-03d579d296eb"
      },
      "source": [
        "from sklearn.tree import DecisionTreeClassifier\n",
        "clf = DecisionTreeClassifier(criterion='entropy', random_state=0)\n",
        "clf = clf.fit(Xtrain, ytrain)\n",
        "clf"
      ],
      "execution_count": 17,
      "outputs": [
        {
          "output_type": "execute_result",
          "data": {
            "text/plain": [
              "DecisionTreeClassifier(criterion='entropy', random_state=0)"
            ],
            "text/html": [
              "<style>#sk-container-id-1 {color: black;background-color: white;}#sk-container-id-1 pre{padding: 0;}#sk-container-id-1 div.sk-toggleable {background-color: white;}#sk-container-id-1 label.sk-toggleable__label {cursor: pointer;display: block;width: 100%;margin-bottom: 0;padding: 0.3em;box-sizing: border-box;text-align: center;}#sk-container-id-1 label.sk-toggleable__label-arrow:before {content: \"▸\";float: left;margin-right: 0.25em;color: #696969;}#sk-container-id-1 label.sk-toggleable__label-arrow:hover:before {color: black;}#sk-container-id-1 div.sk-estimator:hover label.sk-toggleable__label-arrow:before {color: black;}#sk-container-id-1 div.sk-toggleable__content {max-height: 0;max-width: 0;overflow: hidden;text-align: left;background-color: #f0f8ff;}#sk-container-id-1 div.sk-toggleable__content pre {margin: 0.2em;color: black;border-radius: 0.25em;background-color: #f0f8ff;}#sk-container-id-1 input.sk-toggleable__control:checked~div.sk-toggleable__content {max-height: 200px;max-width: 100%;overflow: auto;}#sk-container-id-1 input.sk-toggleable__control:checked~label.sk-toggleable__label-arrow:before {content: \"▾\";}#sk-container-id-1 div.sk-estimator input.sk-toggleable__control:checked~label.sk-toggleable__label {background-color: #d4ebff;}#sk-container-id-1 div.sk-label input.sk-toggleable__control:checked~label.sk-toggleable__label {background-color: #d4ebff;}#sk-container-id-1 input.sk-hidden--visually {border: 0;clip: rect(1px 1px 1px 1px);clip: rect(1px, 1px, 1px, 1px);height: 1px;margin: -1px;overflow: hidden;padding: 0;position: absolute;width: 1px;}#sk-container-id-1 div.sk-estimator {font-family: monospace;background-color: #f0f8ff;border: 1px dotted black;border-radius: 0.25em;box-sizing: border-box;margin-bottom: 0.5em;}#sk-container-id-1 div.sk-estimator:hover {background-color: #d4ebff;}#sk-container-id-1 div.sk-parallel-item::after {content: \"\";width: 100%;border-bottom: 1px solid gray;flex-grow: 1;}#sk-container-id-1 div.sk-label:hover label.sk-toggleable__label {background-color: #d4ebff;}#sk-container-id-1 div.sk-serial::before {content: \"\";position: absolute;border-left: 1px solid gray;box-sizing: border-box;top: 0;bottom: 0;left: 50%;z-index: 0;}#sk-container-id-1 div.sk-serial {display: flex;flex-direction: column;align-items: center;background-color: white;padding-right: 0.2em;padding-left: 0.2em;position: relative;}#sk-container-id-1 div.sk-item {position: relative;z-index: 1;}#sk-container-id-1 div.sk-parallel {display: flex;align-items: stretch;justify-content: center;background-color: white;position: relative;}#sk-container-id-1 div.sk-item::before, #sk-container-id-1 div.sk-parallel-item::before {content: \"\";position: absolute;border-left: 1px solid gray;box-sizing: border-box;top: 0;bottom: 0;left: 50%;z-index: -1;}#sk-container-id-1 div.sk-parallel-item {display: flex;flex-direction: column;z-index: 1;position: relative;background-color: white;}#sk-container-id-1 div.sk-parallel-item:first-child::after {align-self: flex-end;width: 50%;}#sk-container-id-1 div.sk-parallel-item:last-child::after {align-self: flex-start;width: 50%;}#sk-container-id-1 div.sk-parallel-item:only-child::after {width: 0;}#sk-container-id-1 div.sk-dashed-wrapped {border: 1px dashed gray;margin: 0 0.4em 0.5em 0.4em;box-sizing: border-box;padding-bottom: 0.4em;background-color: white;}#sk-container-id-1 div.sk-label label {font-family: monospace;font-weight: bold;display: inline-block;line-height: 1.2em;}#sk-container-id-1 div.sk-label-container {text-align: center;}#sk-container-id-1 div.sk-container {/* jupyter's `normalize.less` sets `[hidden] { display: none; }` but bootstrap.min.css set `[hidden] { display: none !important; }` so we also need the `!important` here to be able to override the default hidden behavior on the sphinx rendered scikit-learn.org. See: https://github.com/scikit-learn/scikit-learn/issues/21755 */display: inline-block !important;position: relative;}#sk-container-id-1 div.sk-text-repr-fallback {display: none;}</style><div id=\"sk-container-id-1\" class=\"sk-top-container\"><div class=\"sk-text-repr-fallback\"><pre>DecisionTreeClassifier(criterion=&#x27;entropy&#x27;, random_state=0)</pre><b>In a Jupyter environment, please rerun this cell to show the HTML representation or trust the notebook. <br />On GitHub, the HTML representation is unable to render, please try loading this page with nbviewer.org.</b></div><div class=\"sk-container\" hidden><div class=\"sk-item\"><div class=\"sk-estimator sk-toggleable\"><input class=\"sk-toggleable__control sk-hidden--visually\" id=\"sk-estimator-id-1\" type=\"checkbox\" checked><label for=\"sk-estimator-id-1\" class=\"sk-toggleable__label sk-toggleable__label-arrow\">DecisionTreeClassifier</label><div class=\"sk-toggleable__content\"><pre>DecisionTreeClassifier(criterion=&#x27;entropy&#x27;, random_state=0)</pre></div></div></div></div></div>"
            ]
          },
          "metadata": {},
          "execution_count": 17
        }
      ]
    },
    {
      "cell_type": "markdown",
      "metadata": {
        "id": "2nTKcj2X4K8L"
      },
      "source": [
        "The largest group size with 0 entropy was a group of size 43. The first split for that group was review_palate > 3.57. The second split for that group was review_taste > 3.814. This was interesting, as the only two splits needed both had to do with taste. This tells us that people are more worried about their beer tasting good then their beer smelling good or having a certain abv. This makes sense, as these beer reviews are for beers considered to be nicer than beer commonly asssociated with college and is cheaper, so the reviewers are more worried about the taste than the alcohol percentage. As for the aroma, it did not even make the decision tree, which tells us the ratings had a wide range of aroma's rating for both highly rated and lowly rated beers. We agree with that, as aroma is much more subjective than taste."
      ]
    },
    {
      "cell_type": "code",
      "metadata": {
        "id": "1QW_kV1daQHj",
        "colab": {
          "base_uri": "https://localhost:8080/",
          "height": 816
        },
        "outputId": "174ce765-6c81-48b4-8908-69f46bebf7b5"
      },
      "source": [
        "vis_data = export_graphviz(clf, out_file=None,\n",
        "                feature_names=Xtrain.columns,\n",
        "                filled=True)\n",
        "\n",
        "graph = graphviz.Source(vis_data)\n",
        "graph"
      ],
      "execution_count": 18,
      "outputs": [
        {
          "output_type": "execute_result",
          "data": {
            "image/svg+xml": "<?xml version=\"1.0\" encoding=\"UTF-8\" standalone=\"no\"?>\n<!DOCTYPE svg PUBLIC \"-//W3C//DTD SVG 1.1//EN\"\n \"http://www.w3.org/Graphics/SVG/1.1/DTD/svg11.dtd\">\n<!-- Generated by graphviz version 2.43.0 (0)\n -->\n<!-- Title: Tree Pages: 1 -->\n<svg width=\"877pt\" height=\"581pt\"\n viewBox=\"0.00 0.00 877.00 581.00\" xmlns=\"http://www.w3.org/2000/svg\" xmlns:xlink=\"http://www.w3.org/1999/xlink\">\n<g id=\"graph0\" class=\"graph\" transform=\"scale(1 1) rotate(0) translate(4 577)\">\n<title>Tree</title>\n<polygon fill=\"white\" stroke=\"transparent\" points=\"-4,4 -4,-577 873,-577 873,4 -4,4\"/>\n<!-- 0 -->\n<g id=\"node1\" class=\"node\">\n<title>0</title>\n<polygon fill=\"#abd5f4\" stroke=\"black\" points=\"365,-573 207,-573 207,-505 365,-505 365,-573\"/>\n<text text-anchor=\"middle\" x=\"286\" y=\"-557.8\" font-family=\"Helvetica,sans-Serif\" font-size=\"14.00\">review_palate &lt;= 3.606</text>\n<text text-anchor=\"middle\" x=\"286\" y=\"-542.8\" font-family=\"Helvetica,sans-Serif\" font-size=\"14.00\">entropy = 0.947</text>\n<text text-anchor=\"middle\" x=\"286\" y=\"-527.8\" font-family=\"Helvetica,sans-Serif\" font-size=\"14.00\">samples = 93</text>\n<text text-anchor=\"middle\" x=\"286\" y=\"-512.8\" font-family=\"Helvetica,sans-Serif\" font-size=\"14.00\">value = [34, 59]</text>\n</g>\n<!-- 1 -->\n<g id=\"node2\" class=\"node\">\n<title>1</title>\n<polygon fill=\"#e68640\" stroke=\"black\" points=\"275,-469 125,-469 125,-401 275,-401 275,-469\"/>\n<text text-anchor=\"middle\" x=\"200\" y=\"-453.8\" font-family=\"Helvetica,sans-Serif\" font-size=\"14.00\">review_taste &lt;= 3.645</text>\n<text text-anchor=\"middle\" x=\"200\" y=\"-438.8\" font-family=\"Helvetica,sans-Serif\" font-size=\"14.00\">entropy = 0.216</text>\n<text text-anchor=\"middle\" x=\"200\" y=\"-423.8\" font-family=\"Helvetica,sans-Serif\" font-size=\"14.00\">samples = 29</text>\n<text text-anchor=\"middle\" x=\"200\" y=\"-408.8\" font-family=\"Helvetica,sans-Serif\" font-size=\"14.00\">value = [28, 1]</text>\n</g>\n<!-- 0&#45;&gt;1 -->\n<g id=\"edge1\" class=\"edge\">\n<title>0&#45;&gt;1</title>\n<path fill=\"none\" stroke=\"black\" d=\"M258.08,-504.88C250.57,-495.98 242.36,-486.24 234.53,-476.96\"/>\n<polygon fill=\"black\" stroke=\"black\" points=\"237.2,-474.69 228.08,-469.3 231.85,-479.2 237.2,-474.69\"/>\n<text text-anchor=\"middle\" x=\"225.96\" y=\"-490.51\" font-family=\"Helvetica,sans-Serif\" font-size=\"14.00\">True</text>\n</g>\n<!-- 6 -->\n<g id=\"node7\" class=\"node\">\n<title>6</title>\n<polygon fill=\"#4da7e8\" stroke=\"black\" points=\"498,-469 340,-469 340,-401 498,-401 498,-469\"/>\n<text text-anchor=\"middle\" x=\"419\" y=\"-453.8\" font-family=\"Helvetica,sans-Serif\" font-size=\"14.00\">review_palate &lt;= 3.699</text>\n<text text-anchor=\"middle\" x=\"419\" y=\"-438.8\" font-family=\"Helvetica,sans-Serif\" font-size=\"14.00\">entropy = 0.449</text>\n<text text-anchor=\"middle\" x=\"419\" y=\"-423.8\" font-family=\"Helvetica,sans-Serif\" font-size=\"14.00\">samples = 64</text>\n<text text-anchor=\"middle\" x=\"419\" y=\"-408.8\" font-family=\"Helvetica,sans-Serif\" font-size=\"14.00\">value = [6, 58]</text>\n</g>\n<!-- 0&#45;&gt;6 -->\n<g id=\"edge6\" class=\"edge\">\n<title>0&#45;&gt;6</title>\n<path fill=\"none\" stroke=\"black\" d=\"M329.18,-504.88C341.38,-495.53 354.77,-485.26 367.41,-475.57\"/>\n<polygon fill=\"black\" stroke=\"black\" points=\"369.78,-478.16 375.58,-469.3 365.52,-472.61 369.78,-478.16\"/>\n<text text-anchor=\"middle\" x=\"372.31\" y=\"-490.38\" font-family=\"Helvetica,sans-Serif\" font-size=\"14.00\">False</text>\n</g>\n<!-- 2 -->\n<g id=\"node3\" class=\"node\">\n<title>2</title>\n<polygon fill=\"#e58139\" stroke=\"black\" points=\"102,-357.5 0,-357.5 0,-304.5 102,-304.5 102,-357.5\"/>\n<text text-anchor=\"middle\" x=\"51\" y=\"-342.3\" font-family=\"Helvetica,sans-Serif\" font-size=\"14.00\">entropy = 0.0</text>\n<text text-anchor=\"middle\" x=\"51\" y=\"-327.3\" font-family=\"Helvetica,sans-Serif\" font-size=\"14.00\">samples = 27</text>\n<text text-anchor=\"middle\" x=\"51\" y=\"-312.3\" font-family=\"Helvetica,sans-Serif\" font-size=\"14.00\">value = [27, 0]</text>\n</g>\n<!-- 1&#45;&gt;2 -->\n<g id=\"edge2\" class=\"edge\">\n<title>1&#45;&gt;2</title>\n<path fill=\"none\" stroke=\"black\" d=\"M151.62,-400.88C133.95,-388.79 114.03,-375.15 96.61,-363.22\"/>\n<polygon fill=\"black\" stroke=\"black\" points=\"98.51,-360.28 88.28,-357.52 94.55,-366.06 98.51,-360.28\"/>\n</g>\n<!-- 3 -->\n<g id=\"node4\" class=\"node\">\n<title>3</title>\n<polygon fill=\"#ffffff\" stroke=\"black\" points=\"280,-365 120,-365 120,-297 280,-297 280,-365\"/>\n<text text-anchor=\"middle\" x=\"200\" y=\"-349.8\" font-family=\"Helvetica,sans-Serif\" font-size=\"14.00\">review_aroma &lt;= 3.631</text>\n<text text-anchor=\"middle\" x=\"200\" y=\"-334.8\" font-family=\"Helvetica,sans-Serif\" font-size=\"14.00\">entropy = 1.0</text>\n<text text-anchor=\"middle\" x=\"200\" y=\"-319.8\" font-family=\"Helvetica,sans-Serif\" font-size=\"14.00\">samples = 2</text>\n<text text-anchor=\"middle\" x=\"200\" y=\"-304.8\" font-family=\"Helvetica,sans-Serif\" font-size=\"14.00\">value = [1, 1]</text>\n</g>\n<!-- 1&#45;&gt;3 -->\n<g id=\"edge3\" class=\"edge\">\n<title>1&#45;&gt;3</title>\n<path fill=\"none\" stroke=\"black\" d=\"M200,-400.88C200,-392.78 200,-383.98 200,-375.47\"/>\n<polygon fill=\"black\" stroke=\"black\" points=\"203.5,-375.3 200,-365.3 196.5,-375.3 203.5,-375.3\"/>\n</g>\n<!-- 4 -->\n<g id=\"node5\" class=\"node\">\n<title>4</title>\n<polygon fill=\"#399de5\" stroke=\"black\" points=\"134,-253.5 38,-253.5 38,-200.5 134,-200.5 134,-253.5\"/>\n<text text-anchor=\"middle\" x=\"86\" y=\"-238.3\" font-family=\"Helvetica,sans-Serif\" font-size=\"14.00\">entropy = 0.0</text>\n<text text-anchor=\"middle\" x=\"86\" y=\"-223.3\" font-family=\"Helvetica,sans-Serif\" font-size=\"14.00\">samples = 1</text>\n<text text-anchor=\"middle\" x=\"86\" y=\"-208.3\" font-family=\"Helvetica,sans-Serif\" font-size=\"14.00\">value = [0, 1]</text>\n</g>\n<!-- 3&#45;&gt;4 -->\n<g id=\"edge4\" class=\"edge\">\n<title>3&#45;&gt;4</title>\n<path fill=\"none\" stroke=\"black\" d=\"M162.99,-296.88C149.84,-285.12 135.06,-271.89 121.99,-260.2\"/>\n<polygon fill=\"black\" stroke=\"black\" points=\"124.31,-257.58 114.52,-253.52 119.64,-262.8 124.31,-257.58\"/>\n</g>\n<!-- 5 -->\n<g id=\"node6\" class=\"node\">\n<title>5</title>\n<polygon fill=\"#e58139\" stroke=\"black\" points=\"248,-253.5 152,-253.5 152,-200.5 248,-200.5 248,-253.5\"/>\n<text text-anchor=\"middle\" x=\"200\" y=\"-238.3\" font-family=\"Helvetica,sans-Serif\" font-size=\"14.00\">entropy = 0.0</text>\n<text text-anchor=\"middle\" x=\"200\" y=\"-223.3\" font-family=\"Helvetica,sans-Serif\" font-size=\"14.00\">samples = 1</text>\n<text text-anchor=\"middle\" x=\"200\" y=\"-208.3\" font-family=\"Helvetica,sans-Serif\" font-size=\"14.00\">value = [1, 0]</text>\n</g>\n<!-- 3&#45;&gt;5 -->\n<g id=\"edge5\" class=\"edge\">\n<title>3&#45;&gt;5</title>\n<path fill=\"none\" stroke=\"black\" d=\"M200,-296.88C200,-286.33 200,-274.6 200,-263.85\"/>\n<polygon fill=\"black\" stroke=\"black\" points=\"203.5,-263.52 200,-253.52 196.5,-263.52 203.5,-263.52\"/>\n</g>\n<!-- 7 -->\n<g id=\"node8\" class=\"node\">\n<title>7</title>\n<polygon fill=\"#7bbeee\" stroke=\"black\" points=\"480.5,-365 357.5,-365 357.5,-297 480.5,-297 480.5,-365\"/>\n<text text-anchor=\"middle\" x=\"419\" y=\"-349.8\" font-family=\"Helvetica,sans-Serif\" font-size=\"14.00\">beer_abv &lt;= 5.89</text>\n<text text-anchor=\"middle\" x=\"419\" y=\"-334.8\" font-family=\"Helvetica,sans-Serif\" font-size=\"14.00\">entropy = 0.811</text>\n<text text-anchor=\"middle\" x=\"419\" y=\"-319.8\" font-family=\"Helvetica,sans-Serif\" font-size=\"14.00\">samples = 20</text>\n<text text-anchor=\"middle\" x=\"419\" y=\"-304.8\" font-family=\"Helvetica,sans-Serif\" font-size=\"14.00\">value = [5, 15]</text>\n</g>\n<!-- 6&#45;&gt;7 -->\n<g id=\"edge7\" class=\"edge\">\n<title>6&#45;&gt;7</title>\n<path fill=\"none\" stroke=\"black\" d=\"M419,-400.88C419,-392.78 419,-383.98 419,-375.47\"/>\n<polygon fill=\"black\" stroke=\"black\" points=\"422.5,-375.3 419,-365.3 415.5,-375.3 422.5,-375.3\"/>\n</g>\n<!-- 16 -->\n<g id=\"node17\" class=\"node\">\n<title>16</title>\n<polygon fill=\"#3e9fe6\" stroke=\"black\" points=\"684,-365 546,-365 546,-297 684,-297 684,-365\"/>\n<text text-anchor=\"middle\" x=\"615\" y=\"-349.8\" font-family=\"Helvetica,sans-Serif\" font-size=\"14.00\">beer_abv &lt;= 11.714</text>\n<text text-anchor=\"middle\" x=\"615\" y=\"-334.8\" font-family=\"Helvetica,sans-Serif\" font-size=\"14.00\">entropy = 0.156</text>\n<text text-anchor=\"middle\" x=\"615\" y=\"-319.8\" font-family=\"Helvetica,sans-Serif\" font-size=\"14.00\">samples = 44</text>\n<text text-anchor=\"middle\" x=\"615\" y=\"-304.8\" font-family=\"Helvetica,sans-Serif\" font-size=\"14.00\">value = [1, 43]</text>\n</g>\n<!-- 6&#45;&gt;16 -->\n<g id=\"edge16\" class=\"edge\">\n<title>6&#45;&gt;16</title>\n<path fill=\"none\" stroke=\"black\" d=\"M482.64,-400.88C501.73,-390.95 522.82,-379.97 542.45,-369.76\"/>\n<polygon fill=\"black\" stroke=\"black\" points=\"544.09,-372.85 551.35,-365.12 540.86,-366.64 544.09,-372.85\"/>\n</g>\n<!-- 8 -->\n<g id=\"node9\" class=\"node\">\n<title>8</title>\n<polygon fill=\"#399de5\" stroke=\"black\" points=\"368,-253.5 266,-253.5 266,-200.5 368,-200.5 368,-253.5\"/>\n<text text-anchor=\"middle\" x=\"317\" y=\"-238.3\" font-family=\"Helvetica,sans-Serif\" font-size=\"14.00\">entropy = 0.0</text>\n<text text-anchor=\"middle\" x=\"317\" y=\"-223.3\" font-family=\"Helvetica,sans-Serif\" font-size=\"14.00\">samples = 11</text>\n<text text-anchor=\"middle\" x=\"317\" y=\"-208.3\" font-family=\"Helvetica,sans-Serif\" font-size=\"14.00\">value = [0, 11]</text>\n</g>\n<!-- 7&#45;&gt;8 -->\n<g id=\"edge8\" class=\"edge\">\n<title>7&#45;&gt;8</title>\n<path fill=\"none\" stroke=\"black\" d=\"M385.88,-296.88C374.34,-285.34 361.39,-272.39 349.86,-260.86\"/>\n<polygon fill=\"black\" stroke=\"black\" points=\"352.07,-258.12 342.52,-253.52 347.12,-263.07 352.07,-258.12\"/>\n</g>\n<!-- 9 -->\n<g id=\"node10\" class=\"node\">\n<title>9</title>\n<polygon fill=\"#fae6d7\" stroke=\"black\" points=\"546,-261 386,-261 386,-193 546,-193 546,-261\"/>\n<text text-anchor=\"middle\" x=\"466\" y=\"-245.8\" font-family=\"Helvetica,sans-Serif\" font-size=\"14.00\">review_aroma &lt;= 3.699</text>\n<text text-anchor=\"middle\" x=\"466\" y=\"-230.8\" font-family=\"Helvetica,sans-Serif\" font-size=\"14.00\">entropy = 0.991</text>\n<text text-anchor=\"middle\" x=\"466\" y=\"-215.8\" font-family=\"Helvetica,sans-Serif\" font-size=\"14.00\">samples = 9</text>\n<text text-anchor=\"middle\" x=\"466\" y=\"-200.8\" font-family=\"Helvetica,sans-Serif\" font-size=\"14.00\">value = [5, 4]</text>\n</g>\n<!-- 7&#45;&gt;9 -->\n<g id=\"edge9\" class=\"edge\">\n<title>7&#45;&gt;9</title>\n<path fill=\"none\" stroke=\"black\" d=\"M434.26,-296.88C438.12,-288.51 442.32,-279.4 446.36,-270.63\"/>\n<polygon fill=\"black\" stroke=\"black\" points=\"449.65,-271.85 450.66,-261.3 443.29,-268.92 449.65,-271.85\"/>\n</g>\n<!-- 10 -->\n<g id=\"node11\" class=\"node\">\n<title>10</title>\n<polygon fill=\"#7bbeee\" stroke=\"black\" points=\"443.5,-157 320.5,-157 320.5,-89 443.5,-89 443.5,-157\"/>\n<text text-anchor=\"middle\" x=\"382\" y=\"-141.8\" font-family=\"Helvetica,sans-Serif\" font-size=\"14.00\">beer_abv &lt;= 6.03</text>\n<text text-anchor=\"middle\" x=\"382\" y=\"-126.8\" font-family=\"Helvetica,sans-Serif\" font-size=\"14.00\">entropy = 0.811</text>\n<text text-anchor=\"middle\" x=\"382\" y=\"-111.8\" font-family=\"Helvetica,sans-Serif\" font-size=\"14.00\">samples = 4</text>\n<text text-anchor=\"middle\" x=\"382\" y=\"-96.8\" font-family=\"Helvetica,sans-Serif\" font-size=\"14.00\">value = [1, 3]</text>\n</g>\n<!-- 9&#45;&gt;10 -->\n<g id=\"edge10\" class=\"edge\">\n<title>9&#45;&gt;10</title>\n<path fill=\"none\" stroke=\"black\" d=\"M438.73,-192.88C431.47,-184.07 423.53,-174.43 415.96,-165.24\"/>\n<polygon fill=\"black\" stroke=\"black\" points=\"418.48,-162.79 409.42,-157.3 413.08,-167.24 418.48,-162.79\"/>\n</g>\n<!-- 13 -->\n<g id=\"node14\" class=\"node\">\n<title>13</title>\n<polygon fill=\"#eca06a\" stroke=\"black\" points=\"622,-157 462,-157 462,-89 622,-89 622,-157\"/>\n<text text-anchor=\"middle\" x=\"542\" y=\"-141.8\" font-family=\"Helvetica,sans-Serif\" font-size=\"14.00\">review_aroma &lt;= 3.822</text>\n<text text-anchor=\"middle\" x=\"542\" y=\"-126.8\" font-family=\"Helvetica,sans-Serif\" font-size=\"14.00\">entropy = 0.722</text>\n<text text-anchor=\"middle\" x=\"542\" y=\"-111.8\" font-family=\"Helvetica,sans-Serif\" font-size=\"14.00\">samples = 5</text>\n<text text-anchor=\"middle\" x=\"542\" y=\"-96.8\" font-family=\"Helvetica,sans-Serif\" font-size=\"14.00\">value = [4, 1]</text>\n</g>\n<!-- 9&#45;&gt;13 -->\n<g id=\"edge13\" class=\"edge\">\n<title>9&#45;&gt;13</title>\n<path fill=\"none\" stroke=\"black\" d=\"M490.68,-192.88C497.18,-184.15 504.28,-174.62 511.07,-165.51\"/>\n<polygon fill=\"black\" stroke=\"black\" points=\"514.02,-167.41 517.19,-157.3 508.41,-163.23 514.02,-167.41\"/>\n</g>\n<!-- 11 -->\n<g id=\"node12\" class=\"node\">\n<title>11</title>\n<polygon fill=\"#e58139\" stroke=\"black\" points=\"328,-53 232,-53 232,0 328,0 328,-53\"/>\n<text text-anchor=\"middle\" x=\"280\" y=\"-37.8\" font-family=\"Helvetica,sans-Serif\" font-size=\"14.00\">entropy = 0.0</text>\n<text text-anchor=\"middle\" x=\"280\" y=\"-22.8\" font-family=\"Helvetica,sans-Serif\" font-size=\"14.00\">samples = 1</text>\n<text text-anchor=\"middle\" x=\"280\" y=\"-7.8\" font-family=\"Helvetica,sans-Serif\" font-size=\"14.00\">value = [1, 0]</text>\n</g>\n<!-- 10&#45;&gt;11 -->\n<g id=\"edge11\" class=\"edge\">\n<title>10&#45;&gt;11</title>\n<path fill=\"none\" stroke=\"black\" d=\"M346.33,-88.95C336.25,-79.62 325.3,-69.47 315.26,-60.16\"/>\n<polygon fill=\"black\" stroke=\"black\" points=\"317.49,-57.47 307.78,-53.24 312.74,-62.6 317.49,-57.47\"/>\n</g>\n<!-- 12 -->\n<g id=\"node13\" class=\"node\">\n<title>12</title>\n<polygon fill=\"#399de5\" stroke=\"black\" points=\"442,-53 346,-53 346,0 442,0 442,-53\"/>\n<text text-anchor=\"middle\" x=\"394\" y=\"-37.8\" font-family=\"Helvetica,sans-Serif\" font-size=\"14.00\">entropy = 0.0</text>\n<text text-anchor=\"middle\" x=\"394\" y=\"-22.8\" font-family=\"Helvetica,sans-Serif\" font-size=\"14.00\">samples = 3</text>\n<text text-anchor=\"middle\" x=\"394\" y=\"-7.8\" font-family=\"Helvetica,sans-Serif\" font-size=\"14.00\">value = [0, 3]</text>\n</g>\n<!-- 10&#45;&gt;12 -->\n<g id=\"edge12\" class=\"edge\">\n<title>10&#45;&gt;12</title>\n<path fill=\"none\" stroke=\"black\" d=\"M386.2,-88.95C387.25,-80.62 388.39,-71.65 389.47,-63.2\"/>\n<polygon fill=\"black\" stroke=\"black\" points=\"392.94,-63.6 390.73,-53.24 386,-62.72 392.94,-63.6\"/>\n</g>\n<!-- 14 -->\n<g id=\"node15\" class=\"node\">\n<title>14</title>\n<polygon fill=\"#e58139\" stroke=\"black\" points=\"579,-53 483,-53 483,0 579,0 579,-53\"/>\n<text text-anchor=\"middle\" x=\"531\" y=\"-37.8\" font-family=\"Helvetica,sans-Serif\" font-size=\"14.00\">entropy = 0.0</text>\n<text text-anchor=\"middle\" x=\"531\" y=\"-22.8\" font-family=\"Helvetica,sans-Serif\" font-size=\"14.00\">samples = 4</text>\n<text text-anchor=\"middle\" x=\"531\" y=\"-7.8\" font-family=\"Helvetica,sans-Serif\" font-size=\"14.00\">value = [4, 0]</text>\n</g>\n<!-- 13&#45;&gt;14 -->\n<g id=\"edge14\" class=\"edge\">\n<title>13&#45;&gt;14</title>\n<path fill=\"none\" stroke=\"black\" d=\"M538.15,-88.95C537.18,-80.62 536.14,-71.65 535.16,-63.2\"/>\n<polygon fill=\"black\" stroke=\"black\" points=\"538.63,-62.76 534,-53.24 531.68,-63.57 538.63,-62.76\"/>\n</g>\n<!-- 15 -->\n<g id=\"node16\" class=\"node\">\n<title>15</title>\n<polygon fill=\"#399de5\" stroke=\"black\" points=\"693,-53 597,-53 597,0 693,0 693,-53\"/>\n<text text-anchor=\"middle\" x=\"645\" y=\"-37.8\" font-family=\"Helvetica,sans-Serif\" font-size=\"14.00\">entropy = 0.0</text>\n<text text-anchor=\"middle\" x=\"645\" y=\"-22.8\" font-family=\"Helvetica,sans-Serif\" font-size=\"14.00\">samples = 1</text>\n<text text-anchor=\"middle\" x=\"645\" y=\"-7.8\" font-family=\"Helvetica,sans-Serif\" font-size=\"14.00\">value = [0, 1]</text>\n</g>\n<!-- 13&#45;&gt;15 -->\n<g id=\"edge15\" class=\"edge\">\n<title>13&#45;&gt;15</title>\n<path fill=\"none\" stroke=\"black\" d=\"M578.02,-88.95C588.19,-79.62 599.25,-69.47 609.4,-60.16\"/>\n<polygon fill=\"black\" stroke=\"black\" points=\"611.95,-62.58 616.95,-53.24 607.21,-57.42 611.95,-62.58\"/>\n</g>\n<!-- 17 -->\n<g id=\"node18\" class=\"node\">\n<title>17</title>\n<polygon fill=\"#399de5\" stroke=\"black\" points=\"666,-253.5 564,-253.5 564,-200.5 666,-200.5 666,-253.5\"/>\n<text text-anchor=\"middle\" x=\"615\" y=\"-238.3\" font-family=\"Helvetica,sans-Serif\" font-size=\"14.00\">entropy = 0.0</text>\n<text text-anchor=\"middle\" x=\"615\" y=\"-223.3\" font-family=\"Helvetica,sans-Serif\" font-size=\"14.00\">samples = 42</text>\n<text text-anchor=\"middle\" x=\"615\" y=\"-208.3\" font-family=\"Helvetica,sans-Serif\" font-size=\"14.00\">value = [0, 42]</text>\n</g>\n<!-- 16&#45;&gt;17 -->\n<g id=\"edge17\" class=\"edge\">\n<title>16&#45;&gt;17</title>\n<path fill=\"none\" stroke=\"black\" d=\"M615,-296.88C615,-286.33 615,-274.6 615,-263.85\"/>\n<polygon fill=\"black\" stroke=\"black\" points=\"618.5,-263.52 615,-253.52 611.5,-263.52 618.5,-263.52\"/>\n</g>\n<!-- 18 -->\n<g id=\"node19\" class=\"node\">\n<title>18</title>\n<polygon fill=\"#ffffff\" stroke=\"black\" points=\"844,-261 684,-261 684,-193 844,-193 844,-261\"/>\n<text text-anchor=\"middle\" x=\"764\" y=\"-245.8\" font-family=\"Helvetica,sans-Serif\" font-size=\"14.00\">review_aroma &lt;= 3.926</text>\n<text text-anchor=\"middle\" x=\"764\" y=\"-230.8\" font-family=\"Helvetica,sans-Serif\" font-size=\"14.00\">entropy = 1.0</text>\n<text text-anchor=\"middle\" x=\"764\" y=\"-215.8\" font-family=\"Helvetica,sans-Serif\" font-size=\"14.00\">samples = 2</text>\n<text text-anchor=\"middle\" x=\"764\" y=\"-200.8\" font-family=\"Helvetica,sans-Serif\" font-size=\"14.00\">value = [1, 1]</text>\n</g>\n<!-- 16&#45;&gt;18 -->\n<g id=\"edge18\" class=\"edge\">\n<title>16&#45;&gt;18</title>\n<path fill=\"none\" stroke=\"black\" d=\"M663.38,-296.88C677.37,-287.3 692.77,-276.76 707.23,-266.86\"/>\n<polygon fill=\"black\" stroke=\"black\" points=\"709.34,-269.66 715.61,-261.12 705.38,-263.89 709.34,-269.66\"/>\n</g>\n<!-- 19 -->\n<g id=\"node20\" class=\"node\">\n<title>19</title>\n<polygon fill=\"#e58139\" stroke=\"black\" points=\"755,-149.5 659,-149.5 659,-96.5 755,-96.5 755,-149.5\"/>\n<text text-anchor=\"middle\" x=\"707\" y=\"-134.3\" font-family=\"Helvetica,sans-Serif\" font-size=\"14.00\">entropy = 0.0</text>\n<text text-anchor=\"middle\" x=\"707\" y=\"-119.3\" font-family=\"Helvetica,sans-Serif\" font-size=\"14.00\">samples = 1</text>\n<text text-anchor=\"middle\" x=\"707\" y=\"-104.3\" font-family=\"Helvetica,sans-Serif\" font-size=\"14.00\">value = [1, 0]</text>\n</g>\n<!-- 18&#45;&gt;19 -->\n<g id=\"edge19\" class=\"edge\">\n<title>18&#45;&gt;19</title>\n<path fill=\"none\" stroke=\"black\" d=\"M745.49,-192.88C739.35,-181.89 732.49,-169.62 726.29,-158.52\"/>\n<polygon fill=\"black\" stroke=\"black\" points=\"729.19,-156.54 721.26,-149.52 723.08,-159.96 729.19,-156.54\"/>\n</g>\n<!-- 20 -->\n<g id=\"node21\" class=\"node\">\n<title>20</title>\n<polygon fill=\"#399de5\" stroke=\"black\" points=\"869,-149.5 773,-149.5 773,-96.5 869,-96.5 869,-149.5\"/>\n<text text-anchor=\"middle\" x=\"821\" y=\"-134.3\" font-family=\"Helvetica,sans-Serif\" font-size=\"14.00\">entropy = 0.0</text>\n<text text-anchor=\"middle\" x=\"821\" y=\"-119.3\" font-family=\"Helvetica,sans-Serif\" font-size=\"14.00\">samples = 1</text>\n<text text-anchor=\"middle\" x=\"821\" y=\"-104.3\" font-family=\"Helvetica,sans-Serif\" font-size=\"14.00\">value = [0, 1]</text>\n</g>\n<!-- 18&#45;&gt;20 -->\n<g id=\"edge20\" class=\"edge\">\n<title>18&#45;&gt;20</title>\n<path fill=\"none\" stroke=\"black\" d=\"M782.51,-192.88C788.65,-181.89 795.51,-169.62 801.71,-158.52\"/>\n<polygon fill=\"black\" stroke=\"black\" points=\"804.92,-159.96 806.74,-149.52 798.81,-156.54 804.92,-159.96\"/>\n</g>\n</g>\n</svg>\n",
            "text/plain": [
              "<graphviz.sources.Source at 0x789f270c3850>"
            ]
          },
          "metadata": {},
          "execution_count": 18
        }
      ]
    },
    {
      "cell_type": "markdown",
      "metadata": {
        "id": "G5s8AI6A2znV"
      },
      "source": [
        "The code below is for generating a ANN model to see how accuretly we can predict if a beer is labeled good (Overall rating >= 3.75) or bad (overall rating < 3.75)"
      ]
    },
    {
      "cell_type": "code",
      "metadata": {
        "id": "dneRoA9aaRri"
      },
      "source": [
        "scaler = StandardScaler()\n",
        "scaler.fit(Xtrain)\n",
        "Xtrain = scaler.transform(Xtrain)\n",
        "Xtest = scaler.transform(Xtest)"
      ],
      "execution_count": 19,
      "outputs": []
    },
    {
      "cell_type": "code",
      "metadata": {
        "id": "Ayc96zh3at1S",
        "colab": {
          "base_uri": "https://localhost:8080/",
          "height": 561
        },
        "outputId": "df231a57-a1ae-463a-9133-bf0211efc97a"
      },
      "source": [
        "mlp=MLPClassifier(\n",
        "        hidden_layer_sizes=(18, 18, 18),\n",
        "        solver='adam',\n",
        "        learning_rate_init=0.001,\n",
        "        warm_start=True,\n",
        "        activation=\"relu\",\n",
        "        max_iter=500,\n",
        "        tol=1e-5,\n",
        "        n_iter_no_change=50,\n",
        "        early_stopping=False)\n",
        "mlp.fit(Xtrain,ytrain)\n",
        "\n",
        "print('Training accuracy:', mlp.score(Xtrain,ytrain))\n",
        "print('Testing accuracy:', mlp.score(Xtest,ytest))\n",
        "plt.plot(mlp.loss_curve_)\n",
        "plt.title('Training Loss Curve')\n",
        "plt.xlabel('Epoch')\n",
        "plt.ylabel('Loss');"
      ],
      "execution_count": 20,
      "outputs": [
        {
          "output_type": "stream",
          "name": "stderr",
          "text": [
            "/usr/local/lib/python3.10/dist-packages/sklearn/neural_network/_multilayer_perceptron.py:686: ConvergenceWarning: Stochastic Optimizer: Maximum iterations (500) reached and the optimization hasn't converged yet.\n",
            "  warnings.warn(\n"
          ]
        },
        {
          "output_type": "stream",
          "name": "stdout",
          "text": [
            "Training accuracy: 0.946236559139785\n",
            "Testing accuracy: 0.6363636363636364\n"
          ]
        },
        {
          "output_type": "display_data",
          "data": {
            "text/plain": [
              "<Figure size 640x480 with 1 Axes>"
            ],
            "image/png": "[encoded data removed]"
          },
          "metadata": {}
        }
      ]
    },
    {
      "cell_type": "markdown",
      "metadata": {
        "id": "uQjT0f_u5TOT"
      },
      "source": [
        "Our training accurecy was 1, and our testing accurecy was 0.909. The training accurecy of 1 is concerning, as we are a little worried about overfitting for the data. However, we did have 18 layers with 18 nodes in each layer, so it is a big model. Our testing accurecy was 0.909, which makes us believe if our training data was larger, the accurecy would drop from 1 and get closer to the accurecy of the testing data."
      ]
    },
    {
      "cell_type": "markdown",
      "metadata": {
        "id": "k2SiPMVh6fT4"
      },
      "source": [
        "###Regression\n",
        "####We are trying to build a statistical model that effectively ranks beer reviews overall score. By taking the most influencial factors we can created a Multiple Linear Regression model that effectively predicts a beer style's overall review. This eliminates human error for rating as many people have different prefences that may lead them to rate certain beer styles higher."
      ]
    },
    {
      "cell_type": "markdown",
      "metadata": {
        "id": "6CXqAJdPc48U"
      },
      "source": [
        "First we started by creating a new data frame that grouped every beer style together. After grouping the Beer styles together we took the average for all numerical data and reset the index of our data frame so that it was in alphabetical order based on beer style."
      ]
    },
    {
      "cell_type": "code",
      "metadata": {
        "id": "5OiLFVTnavPz"
      },
      "source": [
        "df_beer_style = df.groupby(\"beer_style\").mean(numeric_only=True).reset_index()\n"
      ],
      "execution_count": 22,
      "outputs": []
    },
    {
      "cell_type": "markdown",
      "metadata": {
        "id": "voic4oAFc8I8"
      },
      "source": [
        "We are trying to run regression to see if we can predict the Overall review score for our data. Our explantory variables are review_aroma, review_appearance, review_palate, review_taste, beer_abv. Our repsonse variable will be our Overall Review."
      ]
    },
    {
      "cell_type": "code",
      "metadata": {
        "colab": {
          "base_uri": "https://localhost:8080/",
          "height": 310
        },
        "id": "au_to8x_uSYe",
        "outputId": "5d5400c4-55f5-4b46-cc1b-b01baa6755b5"
      },
      "source": [
        "df_beer_style.head()"
      ],
      "execution_count": 23,
      "outputs": [
        {
          "output_type": "execute_result",
          "data": {
            "text/plain": [
              "                   beer_style  review_overall  review_aroma  \\\n",
              "0                     Altbier        3.812659      3.562235   \n",
              "1      American Adjunct Lager        3.164408      2.583354   \n",
              "2    American Amber / Red Ale        3.919129      3.780578   \n",
              "3  American Amber / Red Lager        3.414160      3.036101   \n",
              "4         American Barleywine        3.948031      4.074567   \n",
              "\n",
              "   review_appearance  review_palate  review_taste   beer_abv  \n",
              "0           3.744920       3.671041      3.695174   5.483692  \n",
              "1           2.862817       2.845288      2.832049   4.856739  \n",
              "2           3.911386       3.781527      3.850071   6.412414  \n",
              "3           3.383875       3.162054      3.189531   4.843201  \n",
              "4           4.128643       4.059085      4.109517  10.205474  "
            ],
            "text/html": [
              "\n",
              "  <div id=\"df-61e48133-b484-4de3-8a3f-f377106eff52\" class=\"colab-df-container\">\n",
              "    <div>\n",
              "<style scoped>\n",
              "    .dataframe tbody tr th:only-of-type {\n",
              "        vertical-align: middle;\n",
              "    }\n",
              "\n",
              "    .dataframe tbody tr th {\n",
              "        vertical-align: top;\n",
              "    }\n",
              "\n",
              "    .dataframe thead th {\n",
              "        text-align: right;\n",
              "    }\n",
              "</style>\n",
              "<table border=\"1\" class=\"dataframe\">\n",
              "  <thead>\n",
              "    <tr style=\"text-align: right;\">\n",
              "      <th></th>\n",
              "      <th>beer_style</th>\n",
              "      <th>review_overall</th>\n",
              "      <th>review_aroma</th>\n",
              "      <th>review_appearance</th>\n",
              "      <th>review_palate</th>\n",
              "      <th>review_taste</th>\n",
              "      <th>beer_abv</th>\n",
              "    </tr>\n",
              "  </thead>\n",
              "  <tbody>\n",
              "    <tr>\n",
              "      <th>0</th>\n",
              "      <td>Altbier</td>\n",
              "      <td>3.812659</td>\n",
              "      <td>3.562235</td>\n",
              "      <td>3.744920</td>\n",
              "      <td>3.671041</td>\n",
              "      <td>3.695174</td>\n",
              "      <td>5.483692</td>\n",
              "    </tr>\n",
              "    <tr>\n",
              "      <th>1</th>\n",
              "      <td>American Adjunct Lager</td>\n",
              "      <td>3.164408</td>\n",
              "      <td>2.583354</td>\n",
              "      <td>2.862817</td>\n",
              "      <td>2.845288</td>\n",
              "      <td>2.832049</td>\n",
              "      <td>4.856739</td>\n",
              "    </tr>\n",
              "    <tr>\n",
              "      <th>2</th>\n",
              "      <td>American Amber / Red Ale</td>\n",
              "      <td>3.919129</td>\n",
              "      <td>3.780578</td>\n",
              "      <td>3.911386</td>\n",
              "      <td>3.781527</td>\n",
              "      <td>3.850071</td>\n",
              "      <td>6.412414</td>\n",
              "    </tr>\n",
              "    <tr>\n",
              "      <th>3</th>\n",
              "      <td>American Amber / Red Lager</td>\n",
              "      <td>3.414160</td>\n",
              "      <td>3.036101</td>\n",
              "      <td>3.383875</td>\n",
              "      <td>3.162054</td>\n",
              "      <td>3.189531</td>\n",
              "      <td>4.843201</td>\n",
              "    </tr>\n",
              "    <tr>\n",
              "      <th>4</th>\n",
              "      <td>American Barleywine</td>\n",
              "      <td>3.948031</td>\n",
              "      <td>4.074567</td>\n",
              "      <td>4.128643</td>\n",
              "      <td>4.059085</td>\n",
              "      <td>4.109517</td>\n",
              "      <td>10.205474</td>\n",
              "    </tr>\n",
              "  </tbody>\n",
              "</table>\n",
              "</div>\n",
              "    <div class=\"colab-df-buttons\">\n",
              "\n",
              "  <div class=\"colab-df-container\">\n",
              "    <button class=\"colab-df-convert\" onclick=\"convertToInteractive('df-61e48133-b484-4de3-8a3f-f377106eff52')\"\n",
              "            title=\"Convert this dataframe to an interactive table.\"\n",
              "            style=\"display:none;\">\n",
              "\n",
              "  <svg xmlns=\"http://www.w3.org/2000/svg\" height=\"24px\" viewBox=\"0 -960 960 960\">\n",
              "    <path d=\"M120-120v-720h720v720H120Zm60-500h600v-160H180v160Zm220 220h160v-160H400v160Zm0 220h160v-160H400v160ZM180-400h160v-160H180v160Zm440 0h160v-160H620v160ZM180-180h160v-160H180v160Zm440 0h160v-160H620v160Z\"/>\n",
              "  </svg>\n",
              "    </button>\n",
              "\n",
              "  <style>\n",
              "    .colab-df-container {\n",
              "      display:flex;\n",
              "      gap: 12px;\n",
              "    }\n",
              "\n",
              "    .colab-df-convert {\n",
              "      background-color: #E8F0FE;\n",
              "      border: none;\n",
              "      border-radius: 50%;\n",
              "      cursor: pointer;\n",
              "      display: none;\n",
              "      fill: #1967D2;\n",
              "      height: 32px;\n",
              "      padding: 0 0 0 0;\n",
              "      width: 32px;\n",
              "    }\n",
              "\n",
              "    .colab-df-convert:hover {\n",
              "      background-color: #E2EBFA;\n",
              "      box-shadow: 0px 1px 2px rgba(60, 64, 67, 0.3), 0px 1px 3px 1px rgba(60, 64, 67, 0.15);\n",
              "      fill: #174EA6;\n",
              "    }\n",
              "\n",
              "    .colab-df-buttons div {\n",
              "      margin-bottom: 4px;\n",
              "    }\n",
              "\n",
              "    [theme=dark] .colab-df-convert {\n",
              "      background-color: #3B4455;\n",
              "      fill: #D2E3FC;\n",
              "    }\n",
              "\n",
              "    [theme=dark] .colab-df-convert:hover {\n",
              "      background-color: #434B5C;\n",
              "      box-shadow: 0px 1px 3px 1px rgba(0, 0, 0, 0.15);\n",
              "      filter: drop-shadow(0px 1px 2px rgba(0, 0, 0, 0.3));\n",
              "      fill: #FFFFFF;\n",
              "    }\n",
              "  </style>\n",
              "\n",
              "    <script>\n",
              "      const buttonEl =\n",
              "        document.querySelector('#df-61e48133-b484-4de3-8a3f-f377106eff52 button.colab-df-convert');\n",
              "      buttonEl.style.display =\n",
              "        google.colab.kernel.accessAllowed ? 'block' : 'none';\n",
              "\n",
              "      async function convertToInteractive(key) {\n",
              "        const element = document.querySelector('#df-61e48133-b484-4de3-8a3f-f377106eff52');\n",
              "        const dataTable =\n",
              "          await google.colab.kernel.invokeFunction('convertToInteractive',\n",
              "                                                    [key], {});\n",
              "        if (!dataTable) return;\n",
              "\n",
              "        const docLinkHtml = 'Like what you see? Visit the ' +\n",
              "          '<a target=\"_blank\" href=https://colab.research.google.com/notebooks/data_table.ipynb>data table notebook</a>'\n",
              "          + ' to learn more about interactive tables.';\n",
              "        element.innerHTML = '';\n",
              "        dataTable['output_type'] = 'display_data';\n",
              "        await google.colab.output.renderOutput(dataTable, element);\n",
              "        const docLink = document.createElement('div');\n",
              "        docLink.innerHTML = docLinkHtml;\n",
              "        element.appendChild(docLink);\n",
              "      }\n",
              "    </script>\n",
              "  </div>\n",
              "\n",
              "\n",
              "<div id=\"df-85cc26c9-ecfb-4ed5-8e49-b039192daed0\">\n",
              "  <button class=\"colab-df-quickchart\" onclick=\"quickchart('df-85cc26c9-ecfb-4ed5-8e49-b039192daed0')\"\n",
              "            title=\"Suggest charts\"\n",
              "            style=\"display:none;\">\n",
              "\n",
              "<svg xmlns=\"http://www.w3.org/2000/svg\" height=\"24px\"viewBox=\"0 0 24 24\"\n",
              "     width=\"24px\">\n",
              "    <g>\n",
              "        <path d=\"M19 3H5c-1.1 0-2 .9-2 2v14c0 1.1.9 2 2 2h14c1.1 0 2-.9 2-2V5c0-1.1-.9-2-2-2zM9 17H7v-7h2v7zm4 0h-2V7h2v10zm4 0h-2v-4h2v4z\"/>\n",
              "    </g>\n",
              "</svg>\n",
              "  </button>\n",
              "\n",
              "<style>\n",
              "  .colab-df-quickchart {\n",
              "      --bg-color: #E8F0FE;\n",
              "      --fill-color: #1967D2;\n",
              "      --hover-bg-color: #E2EBFA;\n",
              "      --hover-fill-color: #174EA6;\n",
              "      --disabled-fill-color: #AAA;\n",
              "      --disabled-bg-color: #DDD;\n",
              "  }\n",
              "\n",
              "  [theme=dark] .colab-df-quickchart {\n",
              "      --bg-color: #3B4455;\n",
              "      --fill-color: #D2E3FC;\n",
              "      --hover-bg-color: #434B5C;\n",
              "      --hover-fill-color: #FFFFFF;\n",
              "      --disabled-bg-color: #3B4455;\n",
              "      --disabled-fill-color: #666;\n",
              "  }\n",
              "\n",
              "  .colab-df-quickchart {\n",
              "    background-color: var(--bg-color);\n",
              "    border: none;\n",
              "    border-radius: 50%;\n",
              "    cursor: pointer;\n",
              "    display: none;\n",
              "    fill: var(--fill-color);\n",
              "    height: 32px;\n",
              "    padding: 0;\n",
              "    width: 32px;\n",
              "  }\n",
              "\n",
              "  .colab-df-quickchart:hover {\n",
              "    background-color: var(--hover-bg-color);\n",
              "    box-shadow: 0 1px 2px rgba(60, 64, 67, 0.3), 0 1px 3px 1px rgba(60, 64, 67, 0.15);\n",
              "    fill: var(--button-hover-fill-color);\n",
              "  }\n",
              "\n",
              "  .colab-df-quickchart-complete:disabled,\n",
              "  .colab-df-quickchart-complete:disabled:hover {\n",
              "    background-color: var(--disabled-bg-color);\n",
              "    fill: var(--disabled-fill-color);\n",
              "    box-shadow: none;\n",
              "  }\n",
              "\n",
              "  .colab-df-spinner {\n",
              "    border: 2px solid var(--fill-color);\n",
              "    border-color: transparent;\n",
              "    border-bottom-color: var(--fill-color);\n",
              "    animation:\n",
              "      spin 1s steps(1) infinite;\n",
              "  }\n",
              "\n",
              "  @keyframes spin {\n",
              "    0% {\n",
              "      border-color: transparent;\n",
              "      border-bottom-color: var(--fill-color);\n",
              "      border-left-color: var(--fill-color);\n",
              "    }\n",
              "    20% {\n",
              "      border-color: transparent;\n",
              "      border-left-color: var(--fill-color);\n",
              "      border-top-color: var(--fill-color);\n",
              "    }\n",
              "    30% {\n",
              "      border-color: transparent;\n",
              "      border-left-color: var(--fill-color);\n",
              "      border-top-color: var(--fill-color);\n",
              "      border-right-color: var(--fill-color);\n",
              "    }\n",
              "    40% {\n",
              "      border-color: transparent;\n",
              "      border-right-color: var(--fill-color);\n",
              "      border-top-color: var(--fill-color);\n",
              "    }\n",
              "    60% {\n",
              "      border-color: transparent;\n",
              "      border-right-color: var(--fill-color);\n",
              "    }\n",
              "    80% {\n",
              "      border-color: transparent;\n",
              "      border-right-color: var(--fill-color);\n",
              "      border-bottom-color: var(--fill-color);\n",
              "    }\n",
              "    90% {\n",
              "      border-color: transparent;\n",
              "      border-bottom-color: var(--fill-color);\n",
              "    }\n",
              "  }\n",
              "</style>\n",
              "\n",
              "  <script>\n",
              "    async function quickchart(key) {\n",
              "      const quickchartButtonEl =\n",
              "        document.querySelector('#' + key + ' button');\n",
              "      quickchartButtonEl.disabled = true;  // To prevent multiple clicks.\n",
              "      quickchartButtonEl.classList.add('colab-df-spinner');\n",
              "      try {\n",
              "        const charts = await google.colab.kernel.invokeFunction(\n",
              "            'suggestCharts', [key], {});\n",
              "      } catch (error) {\n",
              "        console.error('Error during call to suggestCharts:', error);\n",
              "      }\n",
              "      quickchartButtonEl.classList.remove('colab-df-spinner');\n",
              "      quickchartButtonEl.classList.add('colab-df-quickchart-complete');\n",
              "    }\n",
              "    (() => {\n",
              "      let quickchartButtonEl =\n",
              "        document.querySelector('#df-85cc26c9-ecfb-4ed5-8e49-b039192daed0 button');\n",
              "      quickchartButtonEl.style.display =\n",
              "        google.colab.kernel.accessAllowed ? 'block' : 'none';\n",
              "    })();\n",
              "  </script>\n",
              "</div>\n",
              "\n",
              "    </div>\n",
              "  </div>\n"
            ],
            "application/vnd.google.colaboratory.intrinsic+json": {
              "type": "dataframe",
              "variable_name": "df_beer_style",
              "summary": "{\n  \"name\": \"df_beer_style\",\n  \"rows\": 104,\n  \"fields\": [\n    {\n      \"column\": \"beer_style\",\n      \"properties\": {\n        \"dtype\": \"string\",\n        \"num_unique_values\": 104,\n        \"samples\": [\n          \"Black & Tan\",\n          \"Hefeweizen\",\n          \"Happoshu\"\n        ],\n        \"semantic_type\": \"\",\n        \"description\": \"\"\n      }\n    },\n    {\n      \"column\": \"review_overall\",\n      \"properties\": {\n        \"dtype\": \"number\",\n        \"std\": 0.3198242971507883,\n        \"min\": 2.5060790273556233,\n        \"max\": 4.145348837209302,\n        \"num_unique_values\": 103,\n        \"samples\": [\n          3.819742489270386,\n          3.7842968075927526,\n          3.56875\n        ],\n        \"semantic_type\": \"\",\n        \"description\": \"\"\n      }\n    },\n    {\n      \"column\": \"review_aroma\",\n      \"properties\": {\n        \"dtype\": \"number\",\n        \"std\": 0.40189641511414154,\n        \"min\": 2.2922998986828773,\n        \"max\": 4.249806580803714,\n        \"num_unique_values\": 104,\n        \"samples\": [\n          3.6781115879828326,\n          3.7251337740006294,\n          2.6574074074074074\n        ],\n        \"semantic_type\": \"\",\n        \"description\": \"\"\n      }\n    },\n    {\n      \"column\": \"review_appearance\",\n      \"properties\": {\n        \"dtype\": \"number\",\n        \"std\": 0.3263451052016189,\n        \"min\": 2.5784387550200805,\n        \"max\": 4.232947780234734,\n        \"num_unique_values\": 104,\n        \"samples\": [\n          3.869098712446352,\n          3.764242996537614,\n          2.759259259259259\n        ],\n        \"semantic_type\": \"\",\n        \"description\": \"\"\n      }\n    },\n    {\n      \"column\": \"review_palate\",\n      \"properties\": {\n        \"dtype\": \"number\",\n        \"std\": 0.3453972240326025,\n        \"min\": 2.437062937062937,\n        \"max\": 4.219390368852459,\n        \"num_unique_values\": 104,\n        \"samples\": [\n          3.663090128755365,\n          3.722694365753856,\n          2.574074074074074\n        ],\n        \"semantic_type\": \"\",\n        \"description\": \"\"\n      }\n    },\n    {\n      \"column\": \"review_taste\",\n      \"properties\": {\n        \"dtype\": \"number\",\n        \"std\": 0.3908012211420451,\n        \"min\": 2.3520770010131713,\n        \"max\": 4.308145491803279,\n        \"num_unique_values\": 104,\n        \"samples\": [\n          3.740343347639485,\n          3.7575542965061377,\n          2.574074074074074\n        ],\n        \"semantic_type\": \"\",\n        \"description\": \"\"\n      }\n    },\n    {\n      \"column\": \"beer_abv\",\n      \"properties\": {\n        \"dtype\": \"number\",\n        \"std\": 2.0395905425355263,\n        \"min\": 0.7011188811188812,\n        \"max\": 14.327652173913044,\n        \"num_unique_values\": 104,\n        \"samples\": [\n          6.621502145922746,\n          5.176660371419578,\n          5.611111111111111\n        ],\n        \"semantic_type\": \"\",\n        \"description\": \"\"\n      }\n    }\n  ]\n}"
            }
          },
          "metadata": {},
          "execution_count": 23
        }
      ]
    },
    {
      "cell_type": "code",
      "metadata": {
        "id": "3gT_EnHOcDiF"
      },
      "source": [
        "x=df_beer_style[['review_aroma','review_appearance','review_palate','review_taste','beer_abv']]\n",
        "y=df_beer_style['review_overall']"
      ],
      "execution_count": 24,
      "outputs": []
    },
    {
      "cell_type": "markdown",
      "metadata": {
        "id": "7siHbDavdAG8"
      },
      "source": [
        "Next we import our linear regression model and fit it to our explanatory and repsonse variables"
      ]
    },
    {
      "cell_type": "code",
      "metadata": {
        "id": "eXaDV4kWcL8D",
        "colab": {
          "base_uri": "https://localhost:8080/",
          "height": 75
        },
        "outputId": "f2510f0a-56bb-43fd-b912-a8a42ac25e10"
      },
      "source": [
        "model = LinearRegression(fit_intercept=True)\n",
        "model.fit(x, y)"
      ],
      "execution_count": 25,
      "outputs": [
        {
          "output_type": "execute_result",
          "data": {
            "text/plain": [
              "LinearRegression()"
            ],
            "text/html": [
              "<style>#sk-container-id-2 {color: black;background-color: white;}#sk-container-id-2 pre{padding: 0;}#sk-container-id-2 div.sk-toggleable {background-color: white;}#sk-container-id-2 label.sk-toggleable__label {cursor: pointer;display: block;width: 100%;margin-bottom: 0;padding: 0.3em;box-sizing: border-box;text-align: center;}#sk-container-id-2 label.sk-toggleable__label-arrow:before {content: \"▸\";float: left;margin-right: 0.25em;color: #696969;}#sk-container-id-2 label.sk-toggleable__label-arrow:hover:before {color: black;}#sk-container-id-2 div.sk-estimator:hover label.sk-toggleable__label-arrow:before {color: black;}#sk-container-id-2 div.sk-toggleable__content {max-height: 0;max-width: 0;overflow: hidden;text-align: left;background-color: #f0f8ff;}#sk-container-id-2 div.sk-toggleable__content pre {margin: 0.2em;color: black;border-radius: 0.25em;background-color: #f0f8ff;}#sk-container-id-2 input.sk-toggleable__control:checked~div.sk-toggleable__content {max-height: 200px;max-width: 100%;overflow: auto;}#sk-container-id-2 input.sk-toggleable__control:checked~label.sk-toggleable__label-arrow:before {content: \"▾\";}#sk-container-id-2 div.sk-estimator input.sk-toggleable__control:checked~label.sk-toggleable__label {background-color: #d4ebff;}#sk-container-id-2 div.sk-label input.sk-toggleable__control:checked~label.sk-toggleable__label {background-color: #d4ebff;}#sk-container-id-2 input.sk-hidden--visually {border: 0;clip: rect(1px 1px 1px 1px);clip: rect(1px, 1px, 1px, 1px);height: 1px;margin: -1px;overflow: hidden;padding: 0;position: absolute;width: 1px;}#sk-container-id-2 div.sk-estimator {font-family: monospace;background-color: #f0f8ff;border: 1px dotted black;border-radius: 0.25em;box-sizing: border-box;margin-bottom: 0.5em;}#sk-container-id-2 div.sk-estimator:hover {background-color: #d4ebff;}#sk-container-id-2 div.sk-parallel-item::after {content: \"\";width: 100%;border-bottom: 1px solid gray;flex-grow: 1;}#sk-container-id-2 div.sk-label:hover label.sk-toggleable__label {background-color: #d4ebff;}#sk-container-id-2 div.sk-serial::before {content: \"\";position: absolute;border-left: 1px solid gray;box-sizing: border-box;top: 0;bottom: 0;left: 50%;z-index: 0;}#sk-container-id-2 div.sk-serial {display: flex;flex-direction: column;align-items: center;background-color: white;padding-right: 0.2em;padding-left: 0.2em;position: relative;}#sk-container-id-2 div.sk-item {position: relative;z-index: 1;}#sk-container-id-2 div.sk-parallel {display: flex;align-items: stretch;justify-content: center;background-color: white;position: relative;}#sk-container-id-2 div.sk-item::before, #sk-container-id-2 div.sk-parallel-item::before {content: \"\";position: absolute;border-left: 1px solid gray;box-sizing: border-box;top: 0;bottom: 0;left: 50%;z-index: -1;}#sk-container-id-2 div.sk-parallel-item {display: flex;flex-direction: column;z-index: 1;position: relative;background-color: white;}#sk-container-id-2 div.sk-parallel-item:first-child::after {align-self: flex-end;width: 50%;}#sk-container-id-2 div.sk-parallel-item:last-child::after {align-self: flex-start;width: 50%;}#sk-container-id-2 div.sk-parallel-item:only-child::after {width: 0;}#sk-container-id-2 div.sk-dashed-wrapped {border: 1px dashed gray;margin: 0 0.4em 0.5em 0.4em;box-sizing: border-box;padding-bottom: 0.4em;background-color: white;}#sk-container-id-2 div.sk-label label {font-family: monospace;font-weight: bold;display: inline-block;line-height: 1.2em;}#sk-container-id-2 div.sk-label-container {text-align: center;}#sk-container-id-2 div.sk-container {/* jupyter's `normalize.less` sets `[hidden] { display: none; }` but bootstrap.min.css set `[hidden] { display: none !important; }` so we also need the `!important` here to be able to override the default hidden behavior on the sphinx rendered scikit-learn.org. See: https://github.com/scikit-learn/scikit-learn/issues/21755 */display: inline-block !important;position: relative;}#sk-container-id-2 div.sk-text-repr-fallback {display: none;}</style><div id=\"sk-container-id-2\" class=\"sk-top-container\"><div class=\"sk-text-repr-fallback\"><pre>LinearRegression()</pre><b>In a Jupyter environment, please rerun this cell to show the HTML representation or trust the notebook. <br />On GitHub, the HTML representation is unable to render, please try loading this page with nbviewer.org.</b></div><div class=\"sk-container\" hidden><div class=\"sk-item\"><div class=\"sk-estimator sk-toggleable\"><input class=\"sk-toggleable__control sk-hidden--visually\" id=\"sk-estimator-id-2\" type=\"checkbox\" checked><label for=\"sk-estimator-id-2\" class=\"sk-toggleable__label sk-toggleable__label-arrow\">LinearRegression</label><div class=\"sk-toggleable__content\"><pre>LinearRegression()</pre></div></div></div></div></div>"
            ]
          },
          "metadata": {},
          "execution_count": 25
        }
      ]
    },
    {
      "cell_type": "markdown",
      "metadata": {
        "id": "mhSVH7t_dDY9"
      },
      "source": [
        "Below is a correlation matrix for our explanatory variables. This tells us how strongly related our variables are to each other. Correlation is between -1 and 1. The correlation is stronger when it is further from 0. The positive and negative correlation tells us if the variable moves in the same direction. So for positive correlation if one variable increases the other increases as well."
      ]
    },
    {
      "cell_type": "code",
      "metadata": {
        "id": "5hhN38lWcODD",
        "colab": {
          "base_uri": "https://localhost:8080/",
          "height": 206
        },
        "outputId": "fde745b4-ca4b-46f1-c5fb-5de4498e1feb"
      },
      "source": [
        "corr_metrics = x.corr()\n",
        "corr_metrics.style.background_gradient(cmap='Blues')"
      ],
      "execution_count": 26,
      "outputs": [
        {
          "output_type": "execute_result",
          "data": {
            "text/plain": [
              "<pandas.io.formats.style.Styler at 0x789f2493b940>"
            ],
            "text/html": [
              "<style type=\"text/css\">\n",
              "#T_0d4a4_row0_col0, #T_0d4a4_row1_col1, #T_0d4a4_row2_col2, #T_0d4a4_row3_col3, #T_0d4a4_row4_col4 {\n",
              "  background-color: #08306b;\n",
              "  color: #f1f1f1;\n",
              "}\n",
              "#T_0d4a4_row0_col1 {\n",
              "  background-color: #08488e;\n",
              "  color: #f1f1f1;\n",
              "}\n",
              "#T_0d4a4_row0_col2, #T_0d4a4_row2_col0 {\n",
              "  background-color: #084285;\n",
              "  color: #f1f1f1;\n",
              "}\n",
              "#T_0d4a4_row0_col3 {\n",
              "  background-color: #083a7a;\n",
              "  color: #f1f1f1;\n",
              "}\n",
              "#T_0d4a4_row0_col4 {\n",
              "  background-color: #e7f0fa;\n",
              "  color: #000000;\n",
              "}\n",
              "#T_0d4a4_row1_col0 {\n",
              "  background-color: #084a91;\n",
              "  color: #f1f1f1;\n",
              "}\n",
              "#T_0d4a4_row1_col2 {\n",
              "  background-color: #08458a;\n",
              "  color: #f1f1f1;\n",
              "}\n",
              "#T_0d4a4_row1_col3, #T_0d4a4_row3_col1 {\n",
              "  background-color: #084990;\n",
              "  color: #f1f1f1;\n",
              "}\n",
              "#T_0d4a4_row1_col4 {\n",
              "  background-color: #f5fafe;\n",
              "  color: #000000;\n",
              "}\n",
              "#T_0d4a4_row2_col1 {\n",
              "  background-color: #084488;\n",
              "  color: #f1f1f1;\n",
              "}\n",
              "#T_0d4a4_row2_col3 {\n",
              "  background-color: #083674;\n",
              "  color: #f1f1f1;\n",
              "}\n",
              "#T_0d4a4_row2_col4 {\n",
              "  background-color: #e9f2fa;\n",
              "  color: #000000;\n",
              "}\n",
              "#T_0d4a4_row3_col0 {\n",
              "  background-color: #083b7c;\n",
              "  color: #f1f1f1;\n",
              "}\n",
              "#T_0d4a4_row3_col2 {\n",
              "  background-color: #083776;\n",
              "  color: #f1f1f1;\n",
              "}\n",
              "#T_0d4a4_row3_col4, #T_0d4a4_row4_col0, #T_0d4a4_row4_col1, #T_0d4a4_row4_col2, #T_0d4a4_row4_col3 {\n",
              "  background-color: #f7fbff;\n",
              "  color: #000000;\n",
              "}\n",
              "</style>\n",
              "<table id=\"T_0d4a4\" class=\"dataframe\">\n",
              "  <thead>\n",
              "    <tr>\n",
              "      <th class=\"blank level0\" >&nbsp;</th>\n",
              "      <th id=\"T_0d4a4_level0_col0\" class=\"col_heading level0 col0\" >review_aroma</th>\n",
              "      <th id=\"T_0d4a4_level0_col1\" class=\"col_heading level0 col1\" >review_appearance</th>\n",
              "      <th id=\"T_0d4a4_level0_col2\" class=\"col_heading level0 col2\" >review_palate</th>\n",
              "      <th id=\"T_0d4a4_level0_col3\" class=\"col_heading level0 col3\" >review_taste</th>\n",
              "      <th id=\"T_0d4a4_level0_col4\" class=\"col_heading level0 col4\" >beer_abv</th>\n",
              "    </tr>\n",
              "  </thead>\n",
              "  <tbody>\n",
              "    <tr>\n",
              "      <th id=\"T_0d4a4_level0_row0\" class=\"row_heading level0 row0\" >review_aroma</th>\n",
              "      <td id=\"T_0d4a4_row0_col0\" class=\"data row0 col0\" >1.000000</td>\n",
              "      <td id=\"T_0d4a4_row0_col1\" class=\"data row0 col1\" >0.952522</td>\n",
              "      <td id=\"T_0d4a4_row0_col2\" class=\"data row0 col2\" >0.967147</td>\n",
              "      <td id=\"T_0d4a4_row0_col3\" class=\"data row0 col3\" >0.977533</td>\n",
              "      <td id=\"T_0d4a4_row0_col4\" class=\"data row0 col4\" >0.515453</td>\n",
              "    </tr>\n",
              "    <tr>\n",
              "      <th id=\"T_0d4a4_level0_row1\" class=\"row_heading level0 row1\" >review_appearance</th>\n",
              "      <td id=\"T_0d4a4_row1_col0\" class=\"data row1 col0\" >0.952522</td>\n",
              "      <td id=\"T_0d4a4_row1_col1\" class=\"data row1 col1\" >1.000000</td>\n",
              "      <td id=\"T_0d4a4_row1_col2\" class=\"data row1 col2\" >0.960914</td>\n",
              "      <td id=\"T_0d4a4_row1_col3\" class=\"data row1 col3\" >0.949526</td>\n",
              "      <td id=\"T_0d4a4_row1_col4\" class=\"data row1 col4\" >0.477354</td>\n",
              "    </tr>\n",
              "    <tr>\n",
              "      <th id=\"T_0d4a4_level0_row2\" class=\"row_heading level0 row2\" >review_palate</th>\n",
              "      <td id=\"T_0d4a4_row2_col0\" class=\"data row2 col0\" >0.967147</td>\n",
              "      <td id=\"T_0d4a4_row2_col1\" class=\"data row2 col1\" >0.960914</td>\n",
              "      <td id=\"T_0d4a4_row2_col2\" class=\"data row2 col2\" >1.000000</td>\n",
              "      <td id=\"T_0d4a4_row2_col3\" class=\"data row2 col3\" >0.985638</td>\n",
              "      <td id=\"T_0d4a4_row2_col4\" class=\"data row2 col4\" >0.510172</td>\n",
              "    </tr>\n",
              "    <tr>\n",
              "      <th id=\"T_0d4a4_level0_row3\" class=\"row_heading level0 row3\" >review_taste</th>\n",
              "      <td id=\"T_0d4a4_row3_col0\" class=\"data row3 col0\" >0.977533</td>\n",
              "      <td id=\"T_0d4a4_row3_col1\" class=\"data row3 col1\" >0.949526</td>\n",
              "      <td id=\"T_0d4a4_row3_col2\" class=\"data row3 col2\" >0.985638</td>\n",
              "      <td id=\"T_0d4a4_row3_col3\" class=\"data row3 col3\" >1.000000</td>\n",
              "      <td id=\"T_0d4a4_row3_col4\" class=\"data row3 col4\" >0.472090</td>\n",
              "    </tr>\n",
              "    <tr>\n",
              "      <th id=\"T_0d4a4_level0_row4\" class=\"row_heading level0 row4\" >beer_abv</th>\n",
              "      <td id=\"T_0d4a4_row4_col0\" class=\"data row4 col0\" >0.515453</td>\n",
              "      <td id=\"T_0d4a4_row4_col1\" class=\"data row4 col1\" >0.477354</td>\n",
              "      <td id=\"T_0d4a4_row4_col2\" class=\"data row4 col2\" >0.510172</td>\n",
              "      <td id=\"T_0d4a4_row4_col3\" class=\"data row4 col3\" >0.472090</td>\n",
              "      <td id=\"T_0d4a4_row4_col4\" class=\"data row4 col4\" >1.000000</td>\n",
              "    </tr>\n",
              "  </tbody>\n",
              "</table>\n"
            ]
          },
          "metadata": {},
          "execution_count": 26
        }
      ]
    },
    {
      "cell_type": "markdown",
      "metadata": {
        "id": "upqmhMEJdG10"
      },
      "source": [
        "Next we printed out our regression model. It is each variables slope coefficient and our y-intercept."
      ]
    },
    {
      "cell_type": "code",
      "metadata": {
        "id": "ifsgChifcQnC",
        "colab": {
          "base_uri": "https://localhost:8080/"
        },
        "outputId": "eef481aa-c6f7-4969-d29e-b99ba0fc03c0"
      },
      "source": [
        "print(\"Review Aroma slope:       \", round(model.coef_[0],4))\n",
        "print(\"Review Apperance slope:   \", round(model.coef_[1],4))\n",
        "print(\"Review Palate slope:      \", round(model.coef_[2],4))\n",
        "print(\"Review Taste slope:       \", round(model.coef_[3],4))\n",
        "print(\"Beer ABV slope:           \", round(model.coef_[4],4))\n",
        "print(\"Model intercept:          \", round(model.intercept_,4))"
      ],
      "execution_count": 27,
      "outputs": [
        {
          "output_type": "stream",
          "name": "stdout",
          "text": [
            "Review Aroma slope:        -0.5451\n",
            "Review Apperance slope:    -0.0979\n",
            "Review Palate slope:       0.5042\n",
            "Review Taste slope:        1.0411\n",
            "Beer ABV slope:            -0.0316\n",
            "Model intercept:           0.6003\n"
          ]
        }
      ]
    },
    {
      "cell_type": "markdown",
      "metadata": {
        "id": "DkUTO9FoGd3w"
      },
      "source": [
        "To check our model's accuracy we use the python method .score(). It returns our R^2 value for our model. R-squared is a statistical measure of how close the data points are to the fitted regression line. R^2 ranges from 0-1 with the best score being 1."
      ]
    },
    {
      "cell_type": "code",
      "metadata": {
        "id": "-zu-LTZJcTaD",
        "colab": {
          "base_uri": "https://localhost:8080/"
        },
        "outputId": "73f508c9-ee53-46c8-cd0c-82c09eef8ecc"
      },
      "source": [
        "print('Model Score:', round(model.score(x,y),4))"
      ],
      "execution_count": 28,
      "outputs": [
        {
          "output_type": "stream",
          "name": "stdout",
          "text": [
            "Model Score: 0.9672\n"
          ]
        }
      ]
    },
    {
      "cell_type": "markdown",
      "metadata": {
        "id": "KUUmdCeSI3X6"
      },
      "source": [
        "Ypred is our model's predictions for our Response variable."
      ]
    },
    {
      "cell_type": "code",
      "metadata": {
        "id": "KI2sxbJQ8Csp"
      },
      "source": [
        "ypred=model.predict(x)"
      ],
      "execution_count": 29,
      "outputs": []
    },
    {
      "cell_type": "markdown",
      "metadata": {
        "id": "c551fzdTJTCr"
      },
      "source": [
        "Mean Absolute Error is the average difference observed in the predicted and actual values across the whole test set.\n",
        "\n",
        "Mean Squared Error is the average of squared differences between prediction and actual observation. Because this statistic is squared it assigns more weight to the bigger errors.\n",
        "\n",
        "Root Mean Square Error is just the square root of MSE. It gives a more accurate represenation of the error in our prediction than MSE or R^2.\n",
        "\n",
        "RMSE penalizes large errors more so can be more better in some situations. If being off by 10 is more than twice as bad as being off by 5. But if being off by 10 is just twice as bad as being off by 5, then MAE is more appropriate.\n",
        "MAE is clearly the winner. RMSE does not describe average error alone and has other implications that are more difficult to tease out and understand."
      ]
    },
    {
      "cell_type": "code",
      "metadata": {
        "id": "kSD3NmKZ7-CT",
        "colab": {
          "base_uri": "https://localhost:8080/"
        },
        "outputId": "f8f3e7fb-246d-4c2c-8bb6-37c7d8405490"
      },
      "source": [
        "from sklearn.metrics import mean_absolute_error\n",
        "from sklearn.metrics import mean_squared_error\n",
        "import math\n",
        "\n",
        "mae = mean_absolute_error(y, ypred)\n",
        "mse = mean_squared_error(y, ypred)\n",
        "rmse = math.sqrt(mse)\n",
        "print('MAE: {:.4f}, MSE: {:.4f}, RMSE: {:.4f}'.format(mae, mse,rmse))"
      ],
      "execution_count": 30,
      "outputs": [
        {
          "output_type": "stream",
          "name": "stdout",
          "text": [
            "MAE: 0.0427, MSE: 0.0033, RMSE: 0.0576\n"
          ]
        }
      ]
    },
    {
      "cell_type": "code",
      "metadata": {
        "id": "6AD1BiFuecWT",
        "colab": {
          "base_uri": "https://localhost:8080/",
          "height": 330
        },
        "outputId": "45efacb6-a2c5-41e8-cb49-54d04b023191"
      },
      "source": [
        "y2 = df_beer_style[['beer_style','review_overall']]\n",
        "y2['ypred'] =  ypred\n",
        "y2sorted = y2.sort_values(by=['review_overall'],ascending=False)\n",
        "y2sorted.head()"
      ],
      "execution_count": 31,
      "outputs": [
        {
          "output_type": "stream",
          "name": "stderr",
          "text": [
            "<ipython-input-31-0d1d89170655>:2: SettingWithCopyWarning: \n",
            "A value is trying to be set on a copy of a slice from a DataFrame.\n",
            "Try using .loc[row_indexer,col_indexer] = value instead\n",
            "\n",
            "See the caveats in the documentation: https://pandas.pydata.org/pandas-docs/stable/user_guide/indexing.html#returning-a-view-versus-a-copy\n",
            "  y2['ypred'] =  ypred\n"
          ]
        },
        {
          "output_type": "execute_result",
          "data": {
            "text/plain": [
              "                          beer_style  review_overall     ypred\n",
              "72                             Kvass        4.145349  4.098899\n",
              "86                  Quadrupel (Quad)        4.135246  4.157239\n",
              "27                Berliner Weissbier        4.122556  4.115805\n",
              "38         Dortmunder / Export Lager        4.115974  4.122621\n",
              "11  American Double / Imperial Stout        4.114140  4.113498"
            ],
            "text/html": [
              "\n",
              "  <div id=\"df-73cc74d7-77d5-45f5-b5bd-f4b899d1a7a5\" class=\"colab-df-container\">\n",
              "    <div>\n",
              "<style scoped>\n",
              "    .dataframe tbody tr th:only-of-type {\n",
              "        vertical-align: middle;\n",
              "    }\n",
              "\n",
              "    .dataframe tbody tr th {\n",
              "        vertical-align: top;\n",
              "    }\n",
              "\n",
              "    .dataframe thead th {\n",
              "        text-align: right;\n",
              "    }\n",
              "</style>\n",
              "<table border=\"1\" class=\"dataframe\">\n",
              "  <thead>\n",
              "    <tr style=\"text-align: right;\">\n",
              "      <th></th>\n",
              "      <th>beer_style</th>\n",
              "      <th>review_overall</th>\n",
              "      <th>ypred</th>\n",
              "    </tr>\n",
              "  </thead>\n",
              "  <tbody>\n",
              "    <tr>\n",
              "      <th>72</th>\n",
              "      <td>Kvass</td>\n",
              "      <td>4.145349</td>\n",
              "      <td>4.098899</td>\n",
              "    </tr>\n",
              "    <tr>\n",
              "      <th>86</th>\n",
              "      <td>Quadrupel (Quad)</td>\n",
              "      <td>4.135246</td>\n",
              "      <td>4.157239</td>\n",
              "    </tr>\n",
              "    <tr>\n",
              "      <th>27</th>\n",
              "      <td>Berliner Weissbier</td>\n",
              "      <td>4.122556</td>\n",
              "      <td>4.115805</td>\n",
              "    </tr>\n",
              "    <tr>\n",
              "      <th>38</th>\n",
              "      <td>Dortmunder / Export Lager</td>\n",
              "      <td>4.115974</td>\n",
              "      <td>4.122621</td>\n",
              "    </tr>\n",
              "    <tr>\n",
              "      <th>11</th>\n",
              "      <td>American Double / Imperial Stout</td>\n",
              "      <td>4.114140</td>\n",
              "      <td>4.113498</td>\n",
              "    </tr>\n",
              "  </tbody>\n",
              "</table>\n",
              "</div>\n",
              "    <div class=\"colab-df-buttons\">\n",
              "\n",
              "  <div class=\"colab-df-container\">\n",
              "    <button class=\"colab-df-convert\" onclick=\"convertToInteractive('df-73cc74d7-77d5-45f5-b5bd-f4b899d1a7a5')\"\n",
              "            title=\"Convert this dataframe to an interactive table.\"\n",
              "            style=\"display:none;\">\n",
              "\n",
              "  <svg xmlns=\"http://www.w3.org/2000/svg\" height=\"24px\" viewBox=\"0 -960 960 960\">\n",
              "    <path d=\"M120-120v-720h720v720H120Zm60-500h600v-160H180v160Zm220 220h160v-160H400v160Zm0 220h160v-160H400v160ZM180-400h160v-160H180v160Zm440 0h160v-160H620v160ZM180-180h160v-160H180v160Zm440 0h160v-160H620v160Z\"/>\n",
              "  </svg>\n",
              "    </button>\n",
              "\n",
              "  <style>\n",
              "    .colab-df-container {\n",
              "      display:flex;\n",
              "      gap: 12px;\n",
              "    }\n",
              "\n",
              "    .colab-df-convert {\n",
              "      background-color: #E8F0FE;\n",
              "      border: none;\n",
              "      border-radius: 50%;\n",
              "      cursor: pointer;\n",
              "      display: none;\n",
              "      fill: #1967D2;\n",
              "      height: 32px;\n",
              "      padding: 0 0 0 0;\n",
              "      width: 32px;\n",
              "    }\n",
              "\n",
              "    .colab-df-convert:hover {\n",
              "      background-color: #E2EBFA;\n",
              "      box-shadow: 0px 1px 2px rgba(60, 64, 67, 0.3), 0px 1px 3px 1px rgba(60, 64, 67, 0.15);\n",
              "      fill: #174EA6;\n",
              "    }\n",
              "\n",
              "    .colab-df-buttons div {\n",
              "      margin-bottom: 4px;\n",
              "    }\n",
              "\n",
              "    [theme=dark] .colab-df-convert {\n",
              "      background-color: #3B4455;\n",
              "      fill: #D2E3FC;\n",
              "    }\n",
              "\n",
              "    [theme=dark] .colab-df-convert:hover {\n",
              "      background-color: #434B5C;\n",
              "      box-shadow: 0px 1px 3px 1px rgba(0, 0, 0, 0.15);\n",
              "      filter: drop-shadow(0px 1px 2px rgba(0, 0, 0, 0.3));\n",
              "      fill: #FFFFFF;\n",
              "    }\n",
              "  </style>\n",
              "\n",
              "    <script>\n",
              "      const buttonEl =\n",
              "        document.querySelector('#df-73cc74d7-77d5-45f5-b5bd-f4b899d1a7a5 button.colab-df-convert');\n",
              "      buttonEl.style.display =\n",
              "        google.colab.kernel.accessAllowed ? 'block' : 'none';\n",
              "\n",
              "      async function convertToInteractive(key) {\n",
              "        const element = document.querySelector('#df-73cc74d7-77d5-45f5-b5bd-f4b899d1a7a5');\n",
              "        const dataTable =\n",
              "          await google.colab.kernel.invokeFunction('convertToInteractive',\n",
              "                                                    [key], {});\n",
              "        if (!dataTable) return;\n",
              "\n",
              "        const docLinkHtml = 'Like what you see? Visit the ' +\n",
              "          '<a target=\"_blank\" href=https://colab.research.google.com/notebooks/data_table.ipynb>data table notebook</a>'\n",
              "          + ' to learn more about interactive tables.';\n",
              "        element.innerHTML = '';\n",
              "        dataTable['output_type'] = 'display_data';\n",
              "        await google.colab.output.renderOutput(dataTable, element);\n",
              "        const docLink = document.createElement('div');\n",
              "        docLink.innerHTML = docLinkHtml;\n",
              "        element.appendChild(docLink);\n",
              "      }\n",
              "    </script>\n",
              "  </div>\n",
              "\n",
              "\n",
              "<div id=\"df-5ad9fc14-5fd8-47a1-994d-a463131f78f9\">\n",
              "  <button class=\"colab-df-quickchart\" onclick=\"quickchart('df-5ad9fc14-5fd8-47a1-994d-a463131f78f9')\"\n",
              "            title=\"Suggest charts\"\n",
              "            style=\"display:none;\">\n",
              "\n",
              "<svg xmlns=\"http://www.w3.org/2000/svg\" height=\"24px\"viewBox=\"0 0 24 24\"\n",
              "     width=\"24px\">\n",
              "    <g>\n",
              "        <path d=\"M19 3H5c-1.1 0-2 .9-2 2v14c0 1.1.9 2 2 2h14c1.1 0 2-.9 2-2V5c0-1.1-.9-2-2-2zM9 17H7v-7h2v7zm4 0h-2V7h2v10zm4 0h-2v-4h2v4z\"/>\n",
              "    </g>\n",
              "</svg>\n",
              "  </button>\n",
              "\n",
              "<style>\n",
              "  .colab-df-quickchart {\n",
              "      --bg-color: #E8F0FE;\n",
              "      --fill-color: #1967D2;\n",
              "      --hover-bg-color: #E2EBFA;\n",
              "      --hover-fill-color: #174EA6;\n",
              "      --disabled-fill-color: #AAA;\n",
              "      --disabled-bg-color: #DDD;\n",
              "  }\n",
              "\n",
              "  [theme=dark] .colab-df-quickchart {\n",
              "      --bg-color: #3B4455;\n",
              "      --fill-color: #D2E3FC;\n",
              "      --hover-bg-color: #434B5C;\n",
              "      --hover-fill-color: #FFFFFF;\n",
              "      --disabled-bg-color: #3B4455;\n",
              "      --disabled-fill-color: #666;\n",
              "  }\n",
              "\n",
              "  .colab-df-quickchart {\n",
              "    background-color: var(--bg-color);\n",
              "    border: none;\n",
              "    border-radius: 50%;\n",
              "    cursor: pointer;\n",
              "    display: none;\n",
              "    fill: var(--fill-color);\n",
              "    height: 32px;\n",
              "    padding: 0;\n",
              "    width: 32px;\n",
              "  }\n",
              "\n",
              "  .colab-df-quickchart:hover {\n",
              "    background-color: var(--hover-bg-color);\n",
              "    box-shadow: 0 1px 2px rgba(60, 64, 67, 0.3), 0 1px 3px 1px rgba(60, 64, 67, 0.15);\n",
              "    fill: var(--button-hover-fill-color);\n",
              "  }\n",
              "\n",
              "  .colab-df-quickchart-complete:disabled,\n",
              "  .colab-df-quickchart-complete:disabled:hover {\n",
              "    background-color: var(--disabled-bg-color);\n",
              "    fill: var(--disabled-fill-color);\n",
              "    box-shadow: none;\n",
              "  }\n",
              "\n",
              "  .colab-df-spinner {\n",
              "    border: 2px solid var(--fill-color);\n",
              "    border-color: transparent;\n",
              "    border-bottom-color: var(--fill-color);\n",
              "    animation:\n",
              "      spin 1s steps(1) infinite;\n",
              "  }\n",
              "\n",
              "  @keyframes spin {\n",
              "    0% {\n",
              "      border-color: transparent;\n",
              "      border-bottom-color: var(--fill-color);\n",
              "      border-left-color: var(--fill-color);\n",
              "    }\n",
              "    20% {\n",
              "      border-color: transparent;\n",
              "      border-left-color: var(--fill-color);\n",
              "      border-top-color: var(--fill-color);\n",
              "    }\n",
              "    30% {\n",
              "      border-color: transparent;\n",
              "      border-left-color: var(--fill-color);\n",
              "      border-top-color: var(--fill-color);\n",
              "      border-right-color: var(--fill-color);\n",
              "    }\n",
              "    40% {\n",
              "      border-color: transparent;\n",
              "      border-right-color: var(--fill-color);\n",
              "      border-top-color: var(--fill-color);\n",
              "    }\n",
              "    60% {\n",
              "      border-color: transparent;\n",
              "      border-right-color: var(--fill-color);\n",
              "    }\n",
              "    80% {\n",
              "      border-color: transparent;\n",
              "      border-right-color: var(--fill-color);\n",
              "      border-bottom-color: var(--fill-color);\n",
              "    }\n",
              "    90% {\n",
              "      border-color: transparent;\n",
              "      border-bottom-color: var(--fill-color);\n",
              "    }\n",
              "  }\n",
              "</style>\n",
              "\n",
              "  <script>\n",
              "    async function quickchart(key) {\n",
              "      const quickchartButtonEl =\n",
              "        document.querySelector('#' + key + ' button');\n",
              "      quickchartButtonEl.disabled = true;  // To prevent multiple clicks.\n",
              "      quickchartButtonEl.classList.add('colab-df-spinner');\n",
              "      try {\n",
              "        const charts = await google.colab.kernel.invokeFunction(\n",
              "            'suggestCharts', [key], {});\n",
              "      } catch (error) {\n",
              "        console.error('Error during call to suggestCharts:', error);\n",
              "      }\n",
              "      quickchartButtonEl.classList.remove('colab-df-spinner');\n",
              "      quickchartButtonEl.classList.add('colab-df-quickchart-complete');\n",
              "    }\n",
              "    (() => {\n",
              "      let quickchartButtonEl =\n",
              "        document.querySelector('#df-5ad9fc14-5fd8-47a1-994d-a463131f78f9 button');\n",
              "      quickchartButtonEl.style.display =\n",
              "        google.colab.kernel.accessAllowed ? 'block' : 'none';\n",
              "    })();\n",
              "  </script>\n",
              "</div>\n",
              "\n",
              "    </div>\n",
              "  </div>\n"
            ],
            "application/vnd.google.colaboratory.intrinsic+json": {
              "type": "dataframe",
              "variable_name": "y2sorted",
              "summary": "{\n  \"name\": \"y2sorted\",\n  \"rows\": 104,\n  \"fields\": [\n    {\n      \"column\": \"beer_style\",\n      \"properties\": {\n        \"dtype\": \"string\",\n        \"num_unique_values\": 104,\n        \"samples\": [\n          \"Belgian Strong Pale Ale\",\n          \"Faro\",\n          \"English India Pale Ale (IPA)\"\n        ],\n        \"semantic_type\": \"\",\n        \"description\": \"\"\n      }\n    },\n    {\n      \"column\": \"review_overall\",\n      \"properties\": {\n        \"dtype\": \"number\",\n        \"std\": 0.3198242971507883,\n        \"min\": 2.5060790273556233,\n        \"max\": 4.145348837209302,\n        \"num_unique_values\": 103,\n        \"samples\": [\n          3.8867268041237115,\n          3.7326578332034295,\n          3.7557471264367814\n        ],\n        \"semantic_type\": \"\",\n        \"description\": \"\"\n      }\n    },\n    {\n      \"column\": \"ypred\",\n      \"properties\": {\n        \"dtype\": \"number\",\n        \"std\": 0.3145344443973552,\n        \"min\": 2.5563025873795264,\n        \"max\": 4.1572394224388445,\n        \"num_unique_values\": 104,\n        \"samples\": [\n          3.856098657981203,\n          3.80969376937744,\n          3.760306843713314\n        ],\n        \"semantic_type\": \"\",\n        \"description\": \"\"\n      }\n    }\n  ]\n}"
            }
          },
          "metadata": {},
          "execution_count": 31
        }
      ]
    },
    {
      "cell_type": "markdown",
      "metadata": {
        "id": "QV7DuvsMYo5D"
      },
      "source": [
        "After reviewing our Correlation Matrix we thought that our model may be overfitted because Beer ABV had a weak correlation with the other variables. We then decided to build another model without Beer ABV in order to find a better model"
      ]
    },
    {
      "cell_type": "code",
      "metadata": {
        "id": "GwowMyo5dif0"
      },
      "source": [
        "x3=df_beer_style[['review_aroma','review_appearance','review_palate','review_taste']]\n",
        "y3=df_beer_style['review_overall']"
      ],
      "execution_count": 32,
      "outputs": []
    },
    {
      "cell_type": "code",
      "metadata": {
        "id": "-vQ0DtRUdqNT",
        "colab": {
          "base_uri": "https://localhost:8080/",
          "height": 75
        },
        "outputId": "9b1488ef-f54c-4a2b-b809-dad71f509739"
      },
      "source": [
        "model1 = LinearRegression(fit_intercept=True)\n",
        "\n",
        "model1.fit(x3, y3)"
      ],
      "execution_count": 33,
      "outputs": [
        {
          "output_type": "execute_result",
          "data": {
            "text/plain": [
              "LinearRegression()"
            ],
            "text/html": [
              "<style>#sk-container-id-3 {color: black;background-color: white;}#sk-container-id-3 pre{padding: 0;}#sk-container-id-3 div.sk-toggleable {background-color: white;}#sk-container-id-3 label.sk-toggleable__label {cursor: pointer;display: block;width: 100%;margin-bottom: 0;padding: 0.3em;box-sizing: border-box;text-align: center;}#sk-container-id-3 label.sk-toggleable__label-arrow:before {content: \"▸\";float: left;margin-right: 0.25em;color: #696969;}#sk-container-id-3 label.sk-toggleable__label-arrow:hover:before {color: black;}#sk-container-id-3 div.sk-estimator:hover label.sk-toggleable__label-arrow:before {color: black;}#sk-container-id-3 div.sk-toggleable__content {max-height: 0;max-width: 0;overflow: hidden;text-align: left;background-color: #f0f8ff;}#sk-container-id-3 div.sk-toggleable__content pre {margin: 0.2em;color: black;border-radius: 0.25em;background-color: #f0f8ff;}#sk-container-id-3 input.sk-toggleable__control:checked~div.sk-toggleable__content {max-height: 200px;max-width: 100%;overflow: auto;}#sk-container-id-3 input.sk-toggleable__control:checked~label.sk-toggleable__label-arrow:before {content: \"▾\";}#sk-container-id-3 div.sk-estimator input.sk-toggleable__control:checked~label.sk-toggleable__label {background-color: #d4ebff;}#sk-container-id-3 div.sk-label input.sk-toggleable__control:checked~label.sk-toggleable__label {background-color: #d4ebff;}#sk-container-id-3 input.sk-hidden--visually {border: 0;clip: rect(1px 1px 1px 1px);clip: rect(1px, 1px, 1px, 1px);height: 1px;margin: -1px;overflow: hidden;padding: 0;position: absolute;width: 1px;}#sk-container-id-3 div.sk-estimator {font-family: monospace;background-color: #f0f8ff;border: 1px dotted black;border-radius: 0.25em;box-sizing: border-box;margin-bottom: 0.5em;}#sk-container-id-3 div.sk-estimator:hover {background-color: #d4ebff;}#sk-container-id-3 div.sk-parallel-item::after {content: \"\";width: 100%;border-bottom: 1px solid gray;flex-grow: 1;}#sk-container-id-3 div.sk-label:hover label.sk-toggleable__label {background-color: #d4ebff;}#sk-container-id-3 div.sk-serial::before {content: \"\";position: absolute;border-left: 1px solid gray;box-sizing: border-box;top: 0;bottom: 0;left: 50%;z-index: 0;}#sk-container-id-3 div.sk-serial {display: flex;flex-direction: column;align-items: center;background-color: white;padding-right: 0.2em;padding-left: 0.2em;position: relative;}#sk-container-id-3 div.sk-item {position: relative;z-index: 1;}#sk-container-id-3 div.sk-parallel {display: flex;align-items: stretch;justify-content: center;background-color: white;position: relative;}#sk-container-id-3 div.sk-item::before, #sk-container-id-3 div.sk-parallel-item::before {content: \"\";position: absolute;border-left: 1px solid gray;box-sizing: border-box;top: 0;bottom: 0;left: 50%;z-index: -1;}#sk-container-id-3 div.sk-parallel-item {display: flex;flex-direction: column;z-index: 1;position: relative;background-color: white;}#sk-container-id-3 div.sk-parallel-item:first-child::after {align-self: flex-end;width: 50%;}#sk-container-id-3 div.sk-parallel-item:last-child::after {align-self: flex-start;width: 50%;}#sk-container-id-3 div.sk-parallel-item:only-child::after {width: 0;}#sk-container-id-3 div.sk-dashed-wrapped {border: 1px dashed gray;margin: 0 0.4em 0.5em 0.4em;box-sizing: border-box;padding-bottom: 0.4em;background-color: white;}#sk-container-id-3 div.sk-label label {font-family: monospace;font-weight: bold;display: inline-block;line-height: 1.2em;}#sk-container-id-3 div.sk-label-container {text-align: center;}#sk-container-id-3 div.sk-container {/* jupyter's `normalize.less` sets `[hidden] { display: none; }` but bootstrap.min.css set `[hidden] { display: none !important; }` so we also need the `!important` here to be able to override the default hidden behavior on the sphinx rendered scikit-learn.org. See: https://github.com/scikit-learn/scikit-learn/issues/21755 */display: inline-block !important;position: relative;}#sk-container-id-3 div.sk-text-repr-fallback {display: none;}</style><div id=\"sk-container-id-3\" class=\"sk-top-container\"><div class=\"sk-text-repr-fallback\"><pre>LinearRegression()</pre><b>In a Jupyter environment, please rerun this cell to show the HTML representation or trust the notebook. <br />On GitHub, the HTML representation is unable to render, please try loading this page with nbviewer.org.</b></div><div class=\"sk-container\" hidden><div class=\"sk-item\"><div class=\"sk-estimator sk-toggleable\"><input class=\"sk-toggleable__control sk-hidden--visually\" id=\"sk-estimator-id-3\" type=\"checkbox\" checked><label for=\"sk-estimator-id-3\" class=\"sk-toggleable__label sk-toggleable__label-arrow\">LinearRegression</label><div class=\"sk-toggleable__content\"><pre>LinearRegression()</pre></div></div></div></div></div>"
            ]
          },
          "metadata": {},
          "execution_count": 33
        }
      ]
    },
    {
      "cell_type": "code",
      "metadata": {
        "id": "dVVXENTldu6i",
        "colab": {
          "base_uri": "https://localhost:8080/",
          "height": 175
        },
        "outputId": "44fda7f2-f3a1-4639-cb1c-160c65572a11"
      },
      "source": [
        "corr_metrics1 = x3.corr()\n",
        "corr_metrics1.style.background_gradient(cmap='Blues')"
      ],
      "execution_count": 34,
      "outputs": [
        {
          "output_type": "execute_result",
          "data": {
            "text/plain": [
              "<pandas.io.formats.style.Styler at 0x789f2283f400>"
            ],
            "text/html": [
              "<style type=\"text/css\">\n",
              "#T_bb2a0_row0_col0, #T_bb2a0_row1_col1, #T_bb2a0_row2_col2, #T_bb2a0_row3_col3 {\n",
              "  background-color: #08306b;\n",
              "  color: #f1f1f1;\n",
              "}\n",
              "#T_bb2a0_row0_col1 {\n",
              "  background-color: #ebf3fb;\n",
              "  color: #000000;\n",
              "}\n",
              "#T_bb2a0_row0_col2 {\n",
              "  background-color: #d8e7f5;\n",
              "  color: #000000;\n",
              "}\n",
              "#T_bb2a0_row0_col3 {\n",
              "  background-color: #58a1cf;\n",
              "  color: #f1f1f1;\n",
              "}\n",
              "#T_bb2a0_row1_col0, #T_bb2a0_row1_col2, #T_bb2a0_row1_col3, #T_bb2a0_row3_col1 {\n",
              "  background-color: #f7fbff;\n",
              "  color: #000000;\n",
              "}\n",
              "#T_bb2a0_row2_col0 {\n",
              "  background-color: #b4d3e9;\n",
              "  color: #000000;\n",
              "}\n",
              "#T_bb2a0_row2_col1 {\n",
              "  background-color: #cbdef1;\n",
              "  color: #000000;\n",
              "}\n",
              "#T_bb2a0_row2_col3 {\n",
              "  background-color: #2a7ab9;\n",
              "  color: #f1f1f1;\n",
              "}\n",
              "#T_bb2a0_row3_col0 {\n",
              "  background-color: #63a8d3;\n",
              "  color: #f1f1f1;\n",
              "}\n",
              "#T_bb2a0_row3_col2 {\n",
              "  background-color: #4090c5;\n",
              "  color: #f1f1f1;\n",
              "}\n",
              "</style>\n",
              "<table id=\"T_bb2a0\" class=\"dataframe\">\n",
              "  <thead>\n",
              "    <tr>\n",
              "      <th class=\"blank level0\" >&nbsp;</th>\n",
              "      <th id=\"T_bb2a0_level0_col0\" class=\"col_heading level0 col0\" >review_aroma</th>\n",
              "      <th id=\"T_bb2a0_level0_col1\" class=\"col_heading level0 col1\" >review_appearance</th>\n",
              "      <th id=\"T_bb2a0_level0_col2\" class=\"col_heading level0 col2\" >review_palate</th>\n",
              "      <th id=\"T_bb2a0_level0_col3\" class=\"col_heading level0 col3\" >review_taste</th>\n",
              "    </tr>\n",
              "  </thead>\n",
              "  <tbody>\n",
              "    <tr>\n",
              "      <th id=\"T_bb2a0_level0_row0\" class=\"row_heading level0 row0\" >review_aroma</th>\n",
              "      <td id=\"T_bb2a0_row0_col0\" class=\"data row0 col0\" >1.000000</td>\n",
              "      <td id=\"T_bb2a0_row0_col1\" class=\"data row0 col1\" >0.952522</td>\n",
              "      <td id=\"T_bb2a0_row0_col2\" class=\"data row0 col2\" >0.967147</td>\n",
              "      <td id=\"T_bb2a0_row0_col3\" class=\"data row0 col3\" >0.977533</td>\n",
              "    </tr>\n",
              "    <tr>\n",
              "      <th id=\"T_bb2a0_level0_row1\" class=\"row_heading level0 row1\" >review_appearance</th>\n",
              "      <td id=\"T_bb2a0_row1_col0\" class=\"data row1 col0\" >0.952522</td>\n",
              "      <td id=\"T_bb2a0_row1_col1\" class=\"data row1 col1\" >1.000000</td>\n",
              "      <td id=\"T_bb2a0_row1_col2\" class=\"data row1 col2\" >0.960914</td>\n",
              "      <td id=\"T_bb2a0_row1_col3\" class=\"data row1 col3\" >0.949526</td>\n",
              "    </tr>\n",
              "    <tr>\n",
              "      <th id=\"T_bb2a0_level0_row2\" class=\"row_heading level0 row2\" >review_palate</th>\n",
              "      <td id=\"T_bb2a0_row2_col0\" class=\"data row2 col0\" >0.967147</td>\n",
              "      <td id=\"T_bb2a0_row2_col1\" class=\"data row2 col1\" >0.960914</td>\n",
              "      <td id=\"T_bb2a0_row2_col2\" class=\"data row2 col2\" >1.000000</td>\n",
              "      <td id=\"T_bb2a0_row2_col3\" class=\"data row2 col3\" >0.985638</td>\n",
              "    </tr>\n",
              "    <tr>\n",
              "      <th id=\"T_bb2a0_level0_row3\" class=\"row_heading level0 row3\" >review_taste</th>\n",
              "      <td id=\"T_bb2a0_row3_col0\" class=\"data row3 col0\" >0.977533</td>\n",
              "      <td id=\"T_bb2a0_row3_col1\" class=\"data row3 col1\" >0.949526</td>\n",
              "      <td id=\"T_bb2a0_row3_col2\" class=\"data row3 col2\" >0.985638</td>\n",
              "      <td id=\"T_bb2a0_row3_col3\" class=\"data row3 col3\" >1.000000</td>\n",
              "    </tr>\n",
              "  </tbody>\n",
              "</table>\n"
            ]
          },
          "metadata": {},
          "execution_count": 34
        }
      ]
    },
    {
      "cell_type": "code",
      "metadata": {
        "id": "lxRxLCm3eA5j",
        "colab": {
          "base_uri": "https://localhost:8080/"
        },
        "outputId": "1a546c0c-e826-4b06-ad52-ea8485e13fea"
      },
      "source": [
        "print(\"Review Aroma slope:       \", round(model1.coef_[0],4))\n",
        "print(\"Review Apperance slope:   \", round(model1.coef_[1],4))\n",
        "print(\"Review Palate slope:      \", round(model1.coef_[2],4))\n",
        "print(\"Review Taste slope:       \", round(model1.coef_[3],4))\n",
        "print(\"Model intercept:          \", round(model1.intercept_,4))"
      ],
      "execution_count": 35,
      "outputs": [
        {
          "output_type": "stream",
          "name": "stdout",
          "text": [
            "Review Aroma slope:        -0.7599\n",
            "Review Apperance slope:    0.0018\n",
            "Review Palate slope:       0.1599\n",
            "Review Taste slope:        1.4001\n",
            "Model intercept:           0.7312\n"
          ]
        }
      ]
    },
    {
      "cell_type": "markdown",
      "metadata": {
        "id": "N1ZLHizAaCSb"
      },
      "source": [
        "Unfortunately our model's R^2 value was lower than before it seems that our model was better the first time."
      ]
    },
    {
      "cell_type": "code",
      "metadata": {
        "id": "nb4_mDiUeeYy",
        "colab": {
          "base_uri": "https://localhost:8080/"
        },
        "outputId": "8a201872-9306-4718-d1fe-ff00e477085c"
      },
      "source": [
        "print('Model Score:', round(model1.score(x3,y3),4))"
      ],
      "execution_count": 36,
      "outputs": [
        {
          "output_type": "stream",
          "name": "stdout",
          "text": [
            "Model Score: 0.9413\n"
          ]
        }
      ]
    },
    {
      "cell_type": "code",
      "metadata": {
        "id": "1qNY-EL58IRc"
      },
      "source": [
        "ypred3=model1.predict(x3)"
      ],
      "execution_count": 37,
      "outputs": []
    },
    {
      "cell_type": "markdown",
      "metadata": {
        "id": "wGZKB_H5aLrQ"
      },
      "source": [
        "Our other Error statistics were larger than before which means that this model is probably worse than before."
      ]
    },
    {
      "cell_type": "code",
      "metadata": {
        "id": "2y9IpfFL8O5b",
        "colab": {
          "base_uri": "https://localhost:8080/"
        },
        "outputId": "85402ce0-3067-493f-ef8a-5adffa79d131"
      },
      "source": [
        "mae3 = mean_absolute_error(y3, ypred3)\n",
        "mse3 = mean_squared_error(y3, ypred3)\n",
        "rmse3 = math.sqrt(mse3)\n",
        "print('MAE: {:.4f}, MSE: {:.4f}, RMSE: {:.4f}'.format(mae3, mse3, rmse3))"
      ],
      "execution_count": 38,
      "outputs": [
        {
          "output_type": "stream",
          "name": "stdout",
          "text": [
            "MAE: 0.0620, MSE: 0.0059, RMSE: 0.0771\n"
          ]
        }
      ]
    },
    {
      "cell_type": "markdown",
      "metadata": {
        "id": "CygDSNkS0Fpx"
      },
      "source": [
        "###Bins"
      ]
    },
    {
      "cell_type": "markdown",
      "metadata": {
        "id": "ROHZK3nH6I6-"
      },
      "source": [
        "We wanted to run a KNN classifier to see if there was a way to predict beer abv from aroma, appearence, palate, taste, and overall rating. However, as abv is a continuous variable,we first had to apply discretization to make it discrete. To do so, we used pandas .qcut to split the data into 5 bins based off of abv. Next, we turned each of the five labels into strings such that KNN could finally be used as the data was in the correct format."
      ]
    },
    {
      "cell_type": "code",
      "metadata": {
        "id": "CQrWXViJvSzE"
      },
      "source": [
        "df_beers_1000['abv_bins'] = pd.qcut(df_beers_1000['beer_abv'], q=5)"
      ],
      "execution_count": 39,
      "outputs": []
    },
    {
      "cell_type": "code",
      "metadata": {
        "id": "Ea4m8dM1vUxc"
      },
      "source": [
        "df_beers_1000['abv_bins'] = df_beers_1000['abv_bins'].astype(str)"
      ],
      "execution_count": 40,
      "outputs": []
    },
    {
      "cell_type": "code",
      "metadata": {
        "id": "DbgM-vPRu_Xq"
      },
      "source": [
        "x4 = df_beers_1000[['review_aroma', 'review_appearance','review_palate', 'review_taste', 'review_overall' ]]\n",
        "y4 = df_beers_1000['abv_bins']"
      ],
      "execution_count": 41,
      "outputs": []
    },
    {
      "cell_type": "code",
      "metadata": {
        "id": "4KQXAQwgvNOl"
      },
      "source": [
        "xtrain4, xtest4, ytrain4, ytest4 = train_test_split(x4,y4, test_size = 0.5, random_state = 0)"
      ],
      "execution_count": 42,
      "outputs": []
    },
    {
      "cell_type": "code",
      "metadata": {
        "id": "WqC-5E1FvYEG"
      },
      "source": [
        "model4 = KNeighborsClassifier(n_neighbors= 3, metric ='euclidean')\n",
        "model4.fit(xtrain4, ytrain4)\n",
        "ypred4 = model4.predict(xtest4)\n"
      ],
      "execution_count": 43,
      "outputs": []
    },
    {
      "cell_type": "code",
      "metadata": {
        "colab": {
          "base_uri": "https://localhost:8080/"
        },
        "id": "ZWHr4h9svcad",
        "outputId": "3441ef35-2841-4273-b3b5-00af98914dd7"
      },
      "source": [
        "accuracy_score(ytest4, ypred4)"
      ],
      "execution_count": 44,
      "outputs": [
        {
          "output_type": "execute_result",
          "data": {
            "text/plain": [
              "0.266"
            ]
          },
          "metadata": {},
          "execution_count": 44
        }
      ]
    },
    {
      "cell_type": "markdown",
      "metadata": {
        "id": "54-ptjAP-NRA"
      },
      "source": [
        "Using a KNN model with a test size = 0.5, 3 neighbors, and euclidean distance we got an accuracy score of 0.28 (ouch).\n",
        "\n",
        "We next used a grid search to maxamize the KNN model with the best parameters to see what is the best accurecy we could get."
      ]
    },
    {
      "cell_type": "code",
      "metadata": {
        "id": "NP0B-15KvdjX"
      },
      "source": [
        "from sklearn.model_selection import GridSearchCV\n",
        "param_grid = {'n_neighbors': np.arange(1, 25),\n",
        "              'metric': ['euclidean', 'manhattan'],\n",
        "              'weights': ['uniform', 'distance']}\n",
        "grid = GridSearchCV(model4, param_grid, cv=5, verbose=1)\n"
      ],
      "execution_count": 45,
      "outputs": []
    },
    {
      "cell_type": "code",
      "metadata": {
        "colab": {
          "base_uri": "https://localhost:8080/",
          "height": 135
        },
        "id": "Ixd74_vWv8W2",
        "outputId": "3d1a74f5-ce06-4fe4-9464-31502e26b9e8"
      },
      "source": [
        "grid.fit(xtrain4, ytrain4)"
      ],
      "execution_count": 46,
      "outputs": [
        {
          "output_type": "stream",
          "name": "stdout",
          "text": [
            "Fitting 5 folds for each of 96 candidates, totalling 480 fits\n"
          ]
        },
        {
          "output_type": "execute_result",
          "data": {
            "text/plain": [
              "GridSearchCV(cv=5,\n",
              "             estimator=KNeighborsClassifier(metric='euclidean', n_neighbors=3),\n",
              "             param_grid={'metric': ['euclidean', 'manhattan'],\n",
              "                         'n_neighbors': array([ 1,  2,  3,  4,  5,  6,  7,  8,  9, 10, 11, 12, 13, 14, 15, 16, 17,\n",
              "       18, 19, 20, 21, 22, 23, 24]),\n",
              "                         'weights': ['uniform', 'distance']},\n",
              "             verbose=1)"
            ],
            "text/html": [
              "<style>#sk-container-id-4 {color: black;background-color: white;}#sk-container-id-4 pre{padding: 0;}#sk-container-id-4 div.sk-toggleable {background-color: white;}#sk-container-id-4 label.sk-toggleable__label {cursor: pointer;display: block;width: 100%;margin-bottom: 0;padding: 0.3em;box-sizing: border-box;text-align: center;}#sk-container-id-4 label.sk-toggleable__label-arrow:before {content: \"▸\";float: left;margin-right: 0.25em;color: #696969;}#sk-container-id-4 label.sk-toggleable__label-arrow:hover:before {color: black;}#sk-container-id-4 div.sk-estimator:hover label.sk-toggleable__label-arrow:before {color: black;}#sk-container-id-4 div.sk-toggleable__content {max-height: 0;max-width: 0;overflow: hidden;text-align: left;background-color: #f0f8ff;}#sk-container-id-4 div.sk-toggleable__content pre {margin: 0.2em;color: black;border-radius: 0.25em;background-color: #f0f8ff;}#sk-container-id-4 input.sk-toggleable__control:checked~div.sk-toggleable__content {max-height: 200px;max-width: 100%;overflow: auto;}#sk-container-id-4 input.sk-toggleable__control:checked~label.sk-toggleable__label-arrow:before {content: \"▾\";}#sk-container-id-4 div.sk-estimator input.sk-toggleable__control:checked~label.sk-toggleable__label {background-color: #d4ebff;}#sk-container-id-4 div.sk-label input.sk-toggleable__control:checked~label.sk-toggleable__label {background-color: #d4ebff;}#sk-container-id-4 input.sk-hidden--visually {border: 0;clip: rect(1px 1px 1px 1px);clip: rect(1px, 1px, 1px, 1px);height: 1px;margin: -1px;overflow: hidden;padding: 0;position: absolute;width: 1px;}#sk-container-id-4 div.sk-estimator {font-family: monospace;background-color: #f0f8ff;border: 1px dotted black;border-radius: 0.25em;box-sizing: border-box;margin-bottom: 0.5em;}#sk-container-id-4 div.sk-estimator:hover {background-color: #d4ebff;}#sk-container-id-4 div.sk-parallel-item::after {content: \"\";width: 100%;border-bottom: 1px solid gray;flex-grow: 1;}#sk-container-id-4 div.sk-label:hover label.sk-toggleable__label {background-color: #d4ebff;}#sk-container-id-4 div.sk-serial::before {content: \"\";position: absolute;border-left: 1px solid gray;box-sizing: border-box;top: 0;bottom: 0;left: 50%;z-index: 0;}#sk-container-id-4 div.sk-serial {display: flex;flex-direction: column;align-items: center;background-color: white;padding-right: 0.2em;padding-left: 0.2em;position: relative;}#sk-container-id-4 div.sk-item {position: relative;z-index: 1;}#sk-container-id-4 div.sk-parallel {display: flex;align-items: stretch;justify-content: center;background-color: white;position: relative;}#sk-container-id-4 div.sk-item::before, #sk-container-id-4 div.sk-parallel-item::before {content: \"\";position: absolute;border-left: 1px solid gray;box-sizing: border-box;top: 0;bottom: 0;left: 50%;z-index: -1;}#sk-container-id-4 div.sk-parallel-item {display: flex;flex-direction: column;z-index: 1;position: relative;background-color: white;}#sk-container-id-4 div.sk-parallel-item:first-child::after {align-self: flex-end;width: 50%;}#sk-container-id-4 div.sk-parallel-item:last-child::after {align-self: flex-start;width: 50%;}#sk-container-id-4 div.sk-parallel-item:only-child::after {width: 0;}#sk-container-id-4 div.sk-dashed-wrapped {border: 1px dashed gray;margin: 0 0.4em 0.5em 0.4em;box-sizing: border-box;padding-bottom: 0.4em;background-color: white;}#sk-container-id-4 div.sk-label label {font-family: monospace;font-weight: bold;display: inline-block;line-height: 1.2em;}#sk-container-id-4 div.sk-label-container {text-align: center;}#sk-container-id-4 div.sk-container {/* jupyter's `normalize.less` sets `[hidden] { display: none; }` but bootstrap.min.css set `[hidden] { display: none !important; }` so we also need the `!important` here to be able to override the default hidden behavior on the sphinx rendered scikit-learn.org. See: https://github.com/scikit-learn/scikit-learn/issues/21755 */display: inline-block !important;position: relative;}#sk-container-id-4 div.sk-text-repr-fallback {display: none;}</style><div id=\"sk-container-id-4\" class=\"sk-top-container\"><div class=\"sk-text-repr-fallback\"><pre>GridSearchCV(cv=5,\n",
              "             estimator=KNeighborsClassifier(metric=&#x27;euclidean&#x27;, n_neighbors=3),\n",
              "             param_grid={&#x27;metric&#x27;: [&#x27;euclidean&#x27;, &#x27;manhattan&#x27;],\n",
              "                         &#x27;n_neighbors&#x27;: array([ 1,  2,  3,  4,  5,  6,  7,  8,  9, 10, 11, 12, 13, 14, 15, 16, 17,\n",
              "       18, 19, 20, 21, 22, 23, 24]),\n",
              "                         &#x27;weights&#x27;: [&#x27;uniform&#x27;, &#x27;distance&#x27;]},\n",
              "             verbose=1)</pre><b>In a Jupyter environment, please rerun this cell to show the HTML representation or trust the notebook. <br />On GitHub, the HTML representation is unable to render, please try loading this page with nbviewer.org.</b></div><div class=\"sk-container\" hidden><div class=\"sk-item sk-dashed-wrapped\"><div class=\"sk-label-container\"><div class=\"sk-label sk-toggleable\"><input class=\"sk-toggleable__control sk-hidden--visually\" id=\"sk-estimator-id-4\" type=\"checkbox\" ><label for=\"sk-estimator-id-4\" class=\"sk-toggleable__label sk-toggleable__label-arrow\">GridSearchCV</label><div class=\"sk-toggleable__content\"><pre>GridSearchCV(cv=5,\n",
              "             estimator=KNeighborsClassifier(metric=&#x27;euclidean&#x27;, n_neighbors=3),\n",
              "             param_grid={&#x27;metric&#x27;: [&#x27;euclidean&#x27;, &#x27;manhattan&#x27;],\n",
              "                         &#x27;n_neighbors&#x27;: array([ 1,  2,  3,  4,  5,  6,  7,  8,  9, 10, 11, 12, 13, 14, 15, 16, 17,\n",
              "       18, 19, 20, 21, 22, 23, 24]),\n",
              "                         &#x27;weights&#x27;: [&#x27;uniform&#x27;, &#x27;distance&#x27;]},\n",
              "             verbose=1)</pre></div></div></div><div class=\"sk-parallel\"><div class=\"sk-parallel-item\"><div class=\"sk-item\"><div class=\"sk-label-container\"><div class=\"sk-label sk-toggleable\"><input class=\"sk-toggleable__control sk-hidden--visually\" id=\"sk-estimator-id-5\" type=\"checkbox\" ><label for=\"sk-estimator-id-5\" class=\"sk-toggleable__label sk-toggleable__label-arrow\">estimator: KNeighborsClassifier</label><div class=\"sk-toggleable__content\"><pre>KNeighborsClassifier(metric=&#x27;euclidean&#x27;, n_neighbors=3)</pre></div></div></div><div class=\"sk-serial\"><div class=\"sk-item\"><div class=\"sk-estimator sk-toggleable\"><input class=\"sk-toggleable__control sk-hidden--visually\" id=\"sk-estimator-id-6\" type=\"checkbox\" ><label for=\"sk-estimator-id-6\" class=\"sk-toggleable__label sk-toggleable__label-arrow\">KNeighborsClassifier</label><div class=\"sk-toggleable__content\"><pre>KNeighborsClassifier(metric=&#x27;euclidean&#x27;, n_neighbors=3)</pre></div></div></div></div></div></div></div></div></div></div>"
            ]
          },
          "metadata": {},
          "execution_count": 46
        }
      ]
    },
    {
      "cell_type": "code",
      "metadata": {
        "colab": {
          "base_uri": "https://localhost:8080/"
        },
        "id": "Wj3D1CA4vhbr",
        "outputId": "f7be201e-ae63-4633-dd3f-0a62e9f2d96f"
      },
      "source": [
        "grid.best_params_"
      ],
      "execution_count": 47,
      "outputs": [
        {
          "output_type": "execute_result",
          "data": {
            "text/plain": [
              "{'metric': 'euclidean', 'n_neighbors': 4, 'weights': 'distance'}"
            ]
          },
          "metadata": {},
          "execution_count": 47
        }
      ]
    },
    {
      "cell_type": "code",
      "metadata": {
        "colab": {
          "base_uri": "https://localhost:8080/"
        },
        "id": "RQOipGkrvl18",
        "outputId": "f22ae47e-7aeb-4988-b4a9-e3088f1a88ce"
      },
      "source": [
        "model5 = grid.best_estimator_\n",
        "model5.fit(xtrain4, ytrain4)\n",
        "ypred5 = model4.predict(xtest4)\n",
        "print(classification_report(ytest4, ypred5))"
      ],
      "execution_count": 48,
      "outputs": [
        {
          "output_type": "stream",
          "name": "stdout",
          "text": [
            "                precision    recall  f1-score   support\n",
            "\n",
            "(1.999, 4.807]       0.25      0.34      0.29       102\n",
            "  (4.807, 5.5]       0.25      0.37      0.30       109\n",
            "    (5.5, 6.8]       0.30      0.25      0.28       102\n",
            "    (6.8, 8.5]       0.20      0.13      0.16        95\n",
            "   (8.5, 21.0]       0.36      0.22      0.27        92\n",
            "\n",
            "      accuracy                           0.27       500\n",
            "     macro avg       0.27      0.26      0.26       500\n",
            "  weighted avg       0.27      0.27      0.26       500\n",
            "\n"
          ]
        }
      ]
    },
    {
      "cell_type": "markdown",
      "metadata": {
        "id": "9VCYf_9N-iVG"
      },
      "source": [
        "The best parameters were 15 neighbors, euclidean distance, and distance as a weight. However, the accuracy only increased to 0.28, which was a much smaller jump in accuracy than we were hoping for.\n",
        "\n",
        "This tells us KNN is not an ideal method for trying to predict abv. However, we also tried regression on abv and the results were also very poor. This leads us to believe that it is very difficult to predict the abv of a beer based off a beer reviews. Our main hypothesis to why it is so difficult has to do with the spread of abv, and how many factors can effect and not effect effect a beers alcohol percentage. Many beers in our data set were rated highly for taste and overall rating, but their abv's encompassed a wide range of high and low."
      ]
    },
    {
      "cell_type": "markdown",
      "metadata": {
        "id": "o06Jsbr96e7N"
      },
      "source": [
        "Below is our code to generate an interface such that the user can enter a number and their preferred beer style and then they are returned with the n highest ranked beers of that category."
      ]
    },
    {
      "cell_type": "markdown",
      "metadata": {
        "id": "N_xwIrrD6jWC"
      },
      "source": [
        "first we made a list of all the beer styles so that it could be referenced later to ensure the input is a valid beer style from our data."
      ]
    },
    {
      "cell_type": "code",
      "metadata": {
        "id": "rdjdERicvpm5"
      },
      "source": [
        "beer_style1  = df_beer_style['beer_style'].tolist()"
      ],
      "execution_count": 49,
      "outputs": []
    },
    {
      "cell_type": "markdown",
      "metadata": {
        "id": "uSQ2cqcA6yov"
      },
      "source": [
        "Next we grouped by beer name and beer style. We used the .mean() to get the mean values of every beer rating on a beer by beer basis, and had to also group by beer_style as that is a categorical column, but we needed it to be kept in the data set so that it could be referenced later"
      ]
    },
    {
      "cell_type": "code",
      "metadata": {
        "id": "sfYhUnPH0t42"
      },
      "source": [
        "df_beers1 = df.groupby([\"beer_name\", \"beer_style\"]).mean(numeric_only = True).reset_index()"
      ],
      "execution_count": 51,
      "outputs": []
    },
    {
      "cell_type": "markdown",
      "metadata": {
        "id": "aVrN9PXg7YXb"
      },
      "source": [
        "Next we defined and used three functions to display the requested data from the user.\n",
        "\n",
        "The first function top_beers() asks the user to enter their desired beer style. If they enter a style not present on the list previously re-created, they will keep getting the prompt until they do so.\n",
        "\n",
        "The second function numberAsk() asks the user how many of the top beers from their selected styles they would like to see. If they enter a negative integer, they will be re-prompted until they enter a positive number.\n",
        "\n",
        "THe third function main() combines the first two functions and generates the output. It first calls on the return statement of the first two functions, and thenuses an n largest and a conditional statement to generate the correct number of data enteries of the requested beer style."
      ]
    },
    {
      "cell_type": "code",
      "metadata": {
        "colab": {
          "base_uri": "https://localhost:8080/",
          "height": 748
        },
        "id": "BNTe_tIP0uAM",
        "outputId": "930de6f8-5b07-426b-a07e-e7d38b084305"
      },
      "source": [
        "def top_beers():\n",
        "  style = str(input(\"please enter your desired beer style: \"))\n",
        "  if style not in beer_style1:\n",
        "    print(\"We are sorry our data does not contain that type of beer\")\n",
        "    print(\"Please enter a beer style present in our data\")\n",
        "    return top_beers()\n",
        "  else:\n",
        "    return style\n",
        "\n",
        "def numberAsk():\n",
        "  number = int(input(\"please enter how many of the top beers from your selected style you wish to view: \"))\n",
        "  if(number <= 0):\n",
        "    print(\"please enter an integer greater than 0\")\n",
        "    return numberAsk()\n",
        "  else:\n",
        "    return number\n",
        "\n",
        "def main():\n",
        "  style = top_beers()\n",
        "  number = numberAsk()\n",
        "  beer = df_beers1[df_beers1['beer_style'] == style]\n",
        "  output = beer.nlargest(number, \"review_overall\")\n",
        "  return output\n",
        "\n",
        "main()\n",
        "\n",
        "\n",
        "\n",
        "\n"
      ],
      "execution_count": 52,
      "outputs": [
        {
          "name": "stdout",
          "output_type": "stream",
          "text": [
            "please enter your desired beer style: IPA\n",
            "We are sorry our data does not contain that type of beer\n",
            "Please enter a beer style present in our data\n",
            "please enter your desired beer style: Berliner Weissbier\n",
            "please enter how many of the top beers from your selected style you wish to view: 10\n"
          ]
        },
        {
          "output_type": "execute_result",
          "data": {
            "text/plain": [
              "                                      beer_name          beer_style  \\\n",
              "9356                Southampton Berliner Weisse  Berliner Weissbier   \n",
              "5026   Hottenroth Berliner Weisse (Blueberries)  Berliner Weissbier   \n",
              "9971                                    Tartare  Berliner Weissbier   \n",
              "3818                          Freigeist Abraxas  Berliner Weissbier   \n",
              "9308                             Solstice D'ete  Berliner Weissbier   \n",
              "8959  Session Ale #44: \"Weisse This Beer Sour?\"  Berliner Weissbier   \n",
              "1079                    Beerstand Berlinerweiss  Berliner Weissbier   \n",
              "5025                 Hottenroth Berliner Weisse  Berliner Weissbier   \n",
              "1723                             Boson De Higgs  Berliner Weissbier   \n",
              "1160                      Berlin Alexanderplatz  Berliner Weissbier   \n",
              "\n",
              "      review_overall  review_aroma  review_appearance  review_palate  \\\n",
              "9356        4.768293      4.353659           4.182927       4.390244   \n",
              "5026        4.500000      4.000000           4.000000       4.000000   \n",
              "9971        4.409091      4.181818           3.954545       4.363636   \n",
              "3818        4.400000      4.300000           3.900000       4.000000   \n",
              "9308        4.333333      4.166667           4.194444       4.138889   \n",
              "8959        4.321429      3.714286           3.892857       3.928571   \n",
              "1079        4.294118      3.852941           3.823529       4.147059   \n",
              "5025        4.221284      3.869932           3.896959       3.989865   \n",
              "1723        4.187500      4.125000           4.125000       4.000000   \n",
              "1160        4.125000      3.750000           3.750000       3.937500   \n",
              "\n",
              "      review_taste  beer_abv  \n",
              "9356      4.560976       2.0  \n",
              "5026      4.500000       3.1  \n",
              "9971      4.545455       4.0  \n",
              "3818      4.100000       3.8  \n",
              "9308      4.333333       5.9  \n",
              "8959      3.785714       2.9  \n",
              "1079      4.176471       3.0  \n",
              "5025      4.050676       3.1  \n",
              "1723      4.062500       3.8  \n",
              "1160      4.062500       3.2  "
            ],
            "text/html": [
              "\n",
              "  <div id=\"df-8699de39-4c36-44ba-a54f-2449030bbe85\" class=\"colab-df-container\">\n",
              "    <div>\n",
              "<style scoped>\n",
              "    .dataframe tbody tr th:only-of-type {\n",
              "        vertical-align: middle;\n",
              "    }\n",
              "\n",
              "    .dataframe tbody tr th {\n",
              "        vertical-align: top;\n",
              "    }\n",
              "\n",
              "    .dataframe thead th {\n",
              "        text-align: right;\n",
              "    }\n",
              "</style>\n",
              "<table border=\"1\" class=\"dataframe\">\n",
              "  <thead>\n",
              "    <tr style=\"text-align: right;\">\n",
              "      <th></th>\n",
              "      <th>beer_name</th>\n",
              "      <th>beer_style</th>\n",
              "      <th>review_overall</th>\n",
              "      <th>review_aroma</th>\n",
              "      <th>review_appearance</th>\n",
              "      <th>review_palate</th>\n",
              "      <th>review_taste</th>\n",
              "      <th>beer_abv</th>\n",
              "    </tr>\n",
              "  </thead>\n",
              "  <tbody>\n",
              "    <tr>\n",
              "      <th>9356</th>\n",
              "      <td>Southampton Berliner Weisse</td>\n",
              "      <td>Berliner Weissbier</td>\n",
              "      <td>4.768293</td>\n",
              "      <td>4.353659</td>\n",
              "      <td>4.182927</td>\n",
              "      <td>4.390244</td>\n",
              "      <td>4.560976</td>\n",
              "      <td>2.0</td>\n",
              "    </tr>\n",
              "    <tr>\n",
              "      <th>5026</th>\n",
              "      <td>Hottenroth Berliner Weisse (Blueberries)</td>\n",
              "      <td>Berliner Weissbier</td>\n",
              "      <td>4.500000</td>\n",
              "      <td>4.000000</td>\n",
              "      <td>4.000000</td>\n",
              "      <td>4.000000</td>\n",
              "      <td>4.500000</td>\n",
              "      <td>3.1</td>\n",
              "    </tr>\n",
              "    <tr>\n",
              "      <th>9971</th>\n",
              "      <td>Tartare</td>\n",
              "      <td>Berliner Weissbier</td>\n",
              "      <td>4.409091</td>\n",
              "      <td>4.181818</td>\n",
              "      <td>3.954545</td>\n",
              "      <td>4.363636</td>\n",
              "      <td>4.545455</td>\n",
              "      <td>4.0</td>\n",
              "    </tr>\n",
              "    <tr>\n",
              "      <th>3818</th>\n",
              "      <td>Freigeist Abraxas</td>\n",
              "      <td>Berliner Weissbier</td>\n",
              "      <td>4.400000</td>\n",
              "      <td>4.300000</td>\n",
              "      <td>3.900000</td>\n",
              "      <td>4.000000</td>\n",
              "      <td>4.100000</td>\n",
              "      <td>3.8</td>\n",
              "    </tr>\n",
              "    <tr>\n",
              "      <th>9308</th>\n",
              "      <td>Solstice D'ete</td>\n",
              "      <td>Berliner Weissbier</td>\n",
              "      <td>4.333333</td>\n",
              "      <td>4.166667</td>\n",
              "      <td>4.194444</td>\n",
              "      <td>4.138889</td>\n",
              "      <td>4.333333</td>\n",
              "      <td>5.9</td>\n",
              "    </tr>\n",
              "    <tr>\n",
              "      <th>8959</th>\n",
              "      <td>Session Ale #44: \"Weisse This Beer Sour?\"</td>\n",
              "      <td>Berliner Weissbier</td>\n",
              "      <td>4.321429</td>\n",
              "      <td>3.714286</td>\n",
              "      <td>3.892857</td>\n",
              "      <td>3.928571</td>\n",
              "      <td>3.785714</td>\n",
              "      <td>2.9</td>\n",
              "    </tr>\n",
              "    <tr>\n",
              "      <th>1079</th>\n",
              "      <td>Beerstand Berlinerweiss</td>\n",
              "      <td>Berliner Weissbier</td>\n",
              "      <td>4.294118</td>\n",
              "      <td>3.852941</td>\n",
              "      <td>3.823529</td>\n",
              "      <td>4.147059</td>\n",
              "      <td>4.176471</td>\n",
              "      <td>3.0</td>\n",
              "    </tr>\n",
              "    <tr>\n",
              "      <th>5025</th>\n",
              "      <td>Hottenroth Berliner Weisse</td>\n",
              "      <td>Berliner Weissbier</td>\n",
              "      <td>4.221284</td>\n",
              "      <td>3.869932</td>\n",
              "      <td>3.896959</td>\n",
              "      <td>3.989865</td>\n",
              "      <td>4.050676</td>\n",
              "      <td>3.1</td>\n",
              "    </tr>\n",
              "    <tr>\n",
              "      <th>1723</th>\n",
              "      <td>Boson De Higgs</td>\n",
              "      <td>Berliner Weissbier</td>\n",
              "      <td>4.187500</td>\n",
              "      <td>4.125000</td>\n",
              "      <td>4.125000</td>\n",
              "      <td>4.000000</td>\n",
              "      <td>4.062500</td>\n",
              "      <td>3.8</td>\n",
              "    </tr>\n",
              "    <tr>\n",
              "      <th>1160</th>\n",
              "      <td>Berlin Alexanderplatz</td>\n",
              "      <td>Berliner Weissbier</td>\n",
              "      <td>4.125000</td>\n",
              "      <td>3.750000</td>\n",
              "      <td>3.750000</td>\n",
              "      <td>3.937500</td>\n",
              "      <td>4.062500</td>\n",
              "      <td>3.2</td>\n",
              "    </tr>\n",
              "  </tbody>\n",
              "</table>\n",
              "</div>\n",
              "    <div class=\"colab-df-buttons\">\n",
              "\n",
              "  <div class=\"colab-df-container\">\n",
              "    <button class=\"colab-df-convert\" onclick=\"convertToInteractive('df-8699de39-4c36-44ba-a54f-2449030bbe85')\"\n",
              "            title=\"Convert this dataframe to an interactive table.\"\n",
              "            style=\"display:none;\">\n",
              "\n",
              "  <svg xmlns=\"http://www.w3.org/2000/svg\" height=\"24px\" viewBox=\"0 -960 960 960\">\n",
              "    <path d=\"M120-120v-720h720v720H120Zm60-500h600v-160H180v160Zm220 220h160v-160H400v160Zm0 220h160v-160H400v160ZM180-400h160v-160H180v160Zm440 0h160v-160H620v160ZM180-180h160v-160H180v160Zm440 0h160v-160H620v160Z\"/>\n",
              "  </svg>\n",
              "    </button>\n",
              "\n",
              "  <style>\n",
              "    .colab-df-container {\n",
              "      display:flex;\n",
              "      gap: 12px;\n",
              "    }\n",
              "\n",
              "    .colab-df-convert {\n",
              "      background-color: #E8F0FE;\n",
              "      border: none;\n",
              "      border-radius: 50%;\n",
              "      cursor: pointer;\n",
              "      display: none;\n",
              "      fill: #1967D2;\n",
              "      height: 32px;\n",
              "      padding: 0 0 0 0;\n",
              "      width: 32px;\n",
              "    }\n",
              "\n",
              "    .colab-df-convert:hover {\n",
              "      background-color: #E2EBFA;\n",
              "      box-shadow: 0px 1px 2px rgba(60, 64, 67, 0.3), 0px 1px 3px 1px rgba(60, 64, 67, 0.15);\n",
              "      fill: #174EA6;\n",
              "    }\n",
              "\n",
              "    .colab-df-buttons div {\n",
              "      margin-bottom: 4px;\n",
              "    }\n",
              "\n",
              "    [theme=dark] .colab-df-convert {\n",
              "      background-color: #3B4455;\n",
              "      fill: #D2E3FC;\n",
              "    }\n",
              "\n",
              "    [theme=dark] .colab-df-convert:hover {\n",
              "      background-color: #434B5C;\n",
              "      box-shadow: 0px 1px 3px 1px rgba(0, 0, 0, 0.15);\n",
              "      filter: drop-shadow(0px 1px 2px rgba(0, 0, 0, 0.3));\n",
              "      fill: #FFFFFF;\n",
              "    }\n",
              "  </style>\n",
              "\n",
              "    <script>\n",
              "      const buttonEl =\n",
              "        document.querySelector('#df-8699de39-4c36-44ba-a54f-2449030bbe85 button.colab-df-convert');\n",
              "      buttonEl.style.display =\n",
              "        google.colab.kernel.accessAllowed ? 'block' : 'none';\n",
              "\n",
              "      async function convertToInteractive(key) {\n",
              "        const element = document.querySelector('#df-8699de39-4c36-44ba-a54f-2449030bbe85');\n",
              "        const dataTable =\n",
              "          await google.colab.kernel.invokeFunction('convertToInteractive',\n",
              "                                                    [key], {});\n",
              "        if (!dataTable) return;\n",
              "\n",
              "        const docLinkHtml = 'Like what you see? Visit the ' +\n",
              "          '<a target=\"_blank\" href=https://colab.research.google.com/notebooks/data_table.ipynb>data table notebook</a>'\n",
              "          + ' to learn more about interactive tables.';\n",
              "        element.innerHTML = '';\n",
              "        dataTable['output_type'] = 'display_data';\n",
              "        await google.colab.output.renderOutput(dataTable, element);\n",
              "        const docLink = document.createElement('div');\n",
              "        docLink.innerHTML = docLinkHtml;\n",
              "        element.appendChild(docLink);\n",
              "      }\n",
              "    </script>\n",
              "  </div>\n",
              "\n",
              "\n",
              "<div id=\"df-368034f4-6e61-4a5e-aa8a-4e693f4f5c59\">\n",
              "  <button class=\"colab-df-quickchart\" onclick=\"quickchart('df-368034f4-6e61-4a5e-aa8a-4e693f4f5c59')\"\n",
              "            title=\"Suggest charts\"\n",
              "            style=\"display:none;\">\n",
              "\n",
              "<svg xmlns=\"http://www.w3.org/2000/svg\" height=\"24px\"viewBox=\"0 0 24 24\"\n",
              "     width=\"24px\">\n",
              "    <g>\n",
              "        <path d=\"M19 3H5c-1.1 0-2 .9-2 2v14c0 1.1.9 2 2 2h14c1.1 0 2-.9 2-2V5c0-1.1-.9-2-2-2zM9 17H7v-7h2v7zm4 0h-2V7h2v10zm4 0h-2v-4h2v4z\"/>\n",
              "    </g>\n",
              "</svg>\n",
              "  </button>\n",
              "\n",
              "<style>\n",
              "  .colab-df-quickchart {\n",
              "      --bg-color: #E8F0FE;\n",
              "      --fill-color: #1967D2;\n",
              "      --hover-bg-color: #E2EBFA;\n",
              "      --hover-fill-color: #174EA6;\n",
              "      --disabled-fill-color: #AAA;\n",
              "      --disabled-bg-color: #DDD;\n",
              "  }\n",
              "\n",
              "  [theme=dark] .colab-df-quickchart {\n",
              "      --bg-color: #3B4455;\n",
              "      --fill-color: #D2E3FC;\n",
              "      --hover-bg-color: #434B5C;\n",
              "      --hover-fill-color: #FFFFFF;\n",
              "      --disabled-bg-color: #3B4455;\n",
              "      --disabled-fill-color: #666;\n",
              "  }\n",
              "\n",
              "  .colab-df-quickchart {\n",
              "    background-color: var(--bg-color);\n",
              "    border: none;\n",
              "    border-radius: 50%;\n",
              "    cursor: pointer;\n",
              "    display: none;\n",
              "    fill: var(--fill-color);\n",
              "    height: 32px;\n",
              "    padding: 0;\n",
              "    width: 32px;\n",
              "  }\n",
              "\n",
              "  .colab-df-quickchart:hover {\n",
              "    background-color: var(--hover-bg-color);\n",
              "    box-shadow: 0 1px 2px rgba(60, 64, 67, 0.3), 0 1px 3px 1px rgba(60, 64, 67, 0.15);\n",
              "    fill: var(--button-hover-fill-color);\n",
              "  }\n",
              "\n",
              "  .colab-df-quickchart-complete:disabled,\n",
              "  .colab-df-quickchart-complete:disabled:hover {\n",
              "    background-color: var(--disabled-bg-color);\n",
              "    fill: var(--disabled-fill-color);\n",
              "    box-shadow: none;\n",
              "  }\n",
              "\n",
              "  .colab-df-spinner {\n",
              "    border: 2px solid var(--fill-color);\n",
              "    border-color: transparent;\n",
              "    border-bottom-color: var(--fill-color);\n",
              "    animation:\n",
              "      spin 1s steps(1) infinite;\n",
              "  }\n",
              "\n",
              "  @keyframes spin {\n",
              "    0% {\n",
              "      border-color: transparent;\n",
              "      border-bottom-color: var(--fill-color);\n",
              "      border-left-color: var(--fill-color);\n",
              "    }\n",
              "    20% {\n",
              "      border-color: transparent;\n",
              "      border-left-color: var(--fill-color);\n",
              "      border-top-color: var(--fill-color);\n",
              "    }\n",
              "    30% {\n",
              "      border-color: transparent;\n",
              "      border-left-color: var(--fill-color);\n",
              "      border-top-color: var(--fill-color);\n",
              "      border-right-color: var(--fill-color);\n",
              "    }\n",
              "    40% {\n",
              "      border-color: transparent;\n",
              "      border-right-color: var(--fill-color);\n",
              "      border-top-color: var(--fill-color);\n",
              "    }\n",
              "    60% {\n",
              "      border-color: transparent;\n",
              "      border-right-color: var(--fill-color);\n",
              "    }\n",
              "    80% {\n",
              "      border-color: transparent;\n",
              "      border-right-color: var(--fill-color);\n",
              "      border-bottom-color: var(--fill-color);\n",
              "    }\n",
              "    90% {\n",
              "      border-color: transparent;\n",
              "      border-bottom-color: var(--fill-color);\n",
              "    }\n",
              "  }\n",
              "</style>\n",
              "\n",
              "  <script>\n",
              "    async function quickchart(key) {\n",
              "      const quickchartButtonEl =\n",
              "        document.querySelector('#' + key + ' button');\n",
              "      quickchartButtonEl.disabled = true;  // To prevent multiple clicks.\n",
              "      quickchartButtonEl.classList.add('colab-df-spinner');\n",
              "      try {\n",
              "        const charts = await google.colab.kernel.invokeFunction(\n",
              "            'suggestCharts', [key], {});\n",
              "      } catch (error) {\n",
              "        console.error('Error during call to suggestCharts:', error);\n",
              "      }\n",
              "      quickchartButtonEl.classList.remove('colab-df-spinner');\n",
              "      quickchartButtonEl.classList.add('colab-df-quickchart-complete');\n",
              "    }\n",
              "    (() => {\n",
              "      let quickchartButtonEl =\n",
              "        document.querySelector('#df-368034f4-6e61-4a5e-aa8a-4e693f4f5c59 button');\n",
              "      quickchartButtonEl.style.display =\n",
              "        google.colab.kernel.accessAllowed ? 'block' : 'none';\n",
              "    })();\n",
              "  </script>\n",
              "</div>\n",
              "\n",
              "    </div>\n",
              "  </div>\n"
            ],
            "application/vnd.google.colaboratory.intrinsic+json": {
              "type": "dataframe",
              "summary": "{\n  \"name\": \"main()\",\n  \"rows\": 10,\n  \"fields\": [\n    {\n      \"column\": \"beer_name\",\n      \"properties\": {\n        \"dtype\": \"string\",\n        \"num_unique_values\": 10,\n        \"samples\": [\n          \"Boson De Higgs\",\n          \"Hottenroth Berliner Weisse (Blueberries)\",\n          \"Session Ale #44: \\\"Weisse This Beer Sour?\\\"\"\n        ],\n        \"semantic_type\": \"\",\n        \"description\": \"\"\n      }\n    },\n    {\n      \"column\": \"beer_style\",\n      \"properties\": {\n        \"dtype\": \"category\",\n        \"num_unique_values\": 1,\n        \"samples\": [\n          \"Berliner Weissbier\"\n        ],\n        \"semantic_type\": \"\",\n        \"description\": \"\"\n      }\n    },\n    {\n      \"column\": \"review_overall\",\n      \"properties\": {\n        \"dtype\": \"number\",\n        \"std\": 0.18285270233815096,\n        \"min\": 4.125,\n        \"max\": 4.7682926829268295,\n        \"num_unique_values\": 10,\n        \"samples\": [\n          4.1875\n        ],\n        \"semantic_type\": \"\",\n        \"description\": \"\"\n      }\n    },\n    {\n      \"column\": \"review_aroma\",\n      \"properties\": {\n        \"dtype\": \"number\",\n        \"std\": 0.2271399209120232,\n        \"min\": 3.7142857142857144,\n        \"max\": 4.353658536585366,\n        \"num_unique_values\": 10,\n        \"samples\": [\n          4.125\n        ],\n        \"semantic_type\": \"\",\n        \"description\": \"\"\n      }\n    },\n    {\n      \"column\": \"review_appearance\",\n      \"properties\": {\n        \"dtype\": \"number\",\n        \"std\": 0.15161189580831766,\n        \"min\": 3.75,\n        \"max\": 4.194444444444445,\n        \"num_unique_values\": 10,\n        \"samples\": [\n          4.125\n        ],\n        \"semantic_type\": \"\",\n        \"description\": \"\"\n      }\n    },\n    {\n      \"column\": \"review_palate\",\n      \"properties\": {\n        \"dtype\": \"number\",\n        \"std\": 0.1680971207625951,\n        \"min\": 3.9285714285714284,\n        \"max\": 4.390243902439025,\n        \"num_unique_values\": 8,\n        \"samples\": [\n          4.0\n        ],\n        \"semantic_type\": \"\",\n        \"description\": \"\"\n      }\n    },\n    {\n      \"column\": \"review_taste\",\n      \"properties\": {\n        \"dtype\": \"number\",\n        \"std\": 0.25745798401818026,\n        \"min\": 3.7857142857142856,\n        \"max\": 4.560975609756097,\n        \"num_unique_values\": 9,\n        \"samples\": [\n          4.050675675675675\n        ],\n        \"semantic_type\": \"\",\n        \"description\": \"\"\n      }\n    },\n    {\n      \"column\": \"beer_abv\",\n      \"properties\": {\n        \"dtype\": \"number\",\n        \"std\": 1.0250203250017371,\n        \"min\": 2.0,\n        \"max\": 5.9,\n        \"num_unique_values\": 8,\n        \"samples\": [\n          3.1\n        ],\n        \"semantic_type\": \"\",\n        \"description\": \"\"\n      }\n    }\n  ]\n}"
            }
          },
          "metadata": {},
          "execution_count": 52
        }
      ]
    },
    {
      "cell_type": "markdown",
      "metadata": {
        "id": "5tJ4Gn34JAEx"
      },
      "source": [
        "#Analysis of Grade Target\n",
        "\n",
        "Overall, we are happy with our work. We implemented over 2-3 methods learned from class, and each of the methods implemented was applicable to our problems and added a new layer to the project. While our visualizations were limited in quantity, we believe their usefullness makes up for the small number. We first generated a set of six histograms to lay out the data, and give the reader a general understanding of how the spread of the data looks for each numerical category. We next made a decision tree that clearly depcits the important variabls to receiving a good overall rating. Lastly, we also included two correlation matrices with colors associted with the level of correlation between variables to show the relationship between variables. While we did not implement any new DMML techniques not learned in class, we did use pythons inout function so that the reader could say their favorite beer style, and then is returned a list of the highest rated beers of that style.\n",
        "\n",
        "Overall, we think our project falls in the middle of the mid range and high range. We utilized a variety of difference DMML methods for different analysis of our variables, as well as we created a way for the user to interact with our project based on their individual beer taste.\n"
      ]
    },
    {
      "cell_type": "markdown",
      "metadata": {
        "id": "6ukw5x4zJzgn"
      },
      "source": [
        "While our results have room for improvement, we do believe they are overall of good quality. Our KNN model to predict abv of a beer was not high quality, but as the best accuracy the grid search resulted in was 0.28, we now believe that KNN was not the best for predicting abv, as well as the fact the abv is incredibly difficult to predict. As seen in our first correltion matrix, abv is signifigantly less correlated to the other variables than the rest of the variables, and with no correlation coefficient above 0.6. This reinforces our belief that abv is challenging to predict from the other variables, as the computer has little to go off of in terms of which variables cause abv to change.\n",
        "\n",
        "While the large data set made this problem difficult to start (our longest run time was over two hours), once we started grouping the data and using the means of the groups, the questions we posed got easier to delve into to and much more managable.\n",
        "\n",
        "We are satisifed with our respone to what variables lead to a better rated beer. As seen on the decision tree, palate and taste are the two most impactful to having a higher rated beer, and we our personal opinions agree with those two variables being of the highest impact.\n",
        "\n",
        "One improvment to our project would be determining a better way to predict a beers abv based on the other categories. While this does not have the most applicable real world application (that we can think of), it is still a challenging problem and we would be curious to see if someone could find a way to solve the issue and make a more accurete model than the one we created.\n",
        "\n"
      ]
    }
  ]
}